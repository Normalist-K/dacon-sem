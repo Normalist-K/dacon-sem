{
 "cells": [
  {
   "cell_type": "code",
   "execution_count": 111,
   "metadata": {},
   "outputs": [],
   "source": [
    "import os\n",
    "from glob import glob\n",
    "from tqdm import tqdm\n",
    "\n",
    "import cv2\n",
    "import numpy as np\n",
    "import pandas as pd\n",
    "import matplotlib.pyplot as plt\n",
    "import albumentations as A\n",
    "from albumentations.pytorch import ToTensorV2\n",
    "\n",
    "import sys\n",
    "sys.path.append('/root/dacon-epitope/dacon-sem')\n",
    "from src.datasets.sem_dataset import SEMDataset\n",
    "from src.datasets.sem_datamodule import SEMDataModule"
   ]
  },
  {
   "cell_type": "code",
   "execution_count": 6,
   "metadata": {},
   "outputs": [],
   "source": [
    "data_path = os.path.abspath('/shared/Samsung/')\n",
    "simulation_sem_paths = os.path.join(data_path, 'simulation_data', 'SEM', '*', '*', '*.png')\n",
    "simulation_sem_paths = np.array(sorted(glob(simulation_sem_paths)))\n",
    "simulation_depth_paths = os.path.join(data_path, 'simulation_data', 'Depth', '*', '*', '*.png')\n",
    "simulation_depth_paths = np.array(sorted(glob(simulation_depth_paths) + glob(simulation_depth_paths)))\n",
    "simulation_data_len = len(simulation_sem_paths)\n",
    "\n",
    "train_sem_paths = os.path.join(data_path, 'train', 'SEM', '*', '*', '*.png')\n",
    "train_sem_paths = np.array(sorted(glob(train_sem_paths)))\n",
    "train_data_len = len(train_sem_paths)\n",
    "\n",
    "test_sem_paths = os.path.join(data_path, 'test', 'SEM', '*.png')\n",
    "test_sem_paths = np.array(sorted(glob(test_sem_paths)))\n",
    "test_data_len = len(test_sem_paths)"
   ]
  },
  {
   "cell_type": "code",
   "execution_count": 8,
   "metadata": {},
   "outputs": [
    {
     "data": {
      "text/plain": [
       "(173304, 60664, 25988)"
      ]
     },
     "execution_count": 8,
     "metadata": {},
     "output_type": "execute_result"
    }
   ],
   "source": [
    "simulation_data_len, train_data_len, test_data_len"
   ]
  },
  {
   "cell_type": "code",
   "execution_count": 9,
   "metadata": {},
   "outputs": [
    {
     "name": "stdout",
     "output_type": "stream",
     "text": [
      "[15166, 15166, 15166, 15166]\n"
     ]
    }
   ],
   "source": [
    "depth_list = ['Depth_110', 'Depth_120', 'Depth_130', 'Depth_140']\n",
    "train_sem_by_depths = []\n",
    "\n",
    "for depth in depth_list:\n",
    "    t_path = os.path.join(data_path, 'train', 'SEM', depth, '*', '*.png')\n",
    "    t_path = np.array(sorted(glob(t_path)))\n",
    "    train_sem_by_depths.append(t_path)\n",
    "\n",
    "print([len(t_path) for t_path in train_sem_by_depths])"
   ]
  },
  {
   "cell_type": "code",
   "execution_count": 10,
   "metadata": {},
   "outputs": [
    {
     "name": "stdout",
     "output_type": "stream",
     "text": [
      "['/shared/Samsung/train/SEM/Depth_110/site_00000/SEM_043510.png', '/shared/Samsung/train/SEM/Depth_120/site_00000/SEM_021742.png', '/shared/Samsung/train/SEM/Depth_130/site_00000/SEM_065114.png', '/shared/Samsung/train/SEM/Depth_140/site_00000/SEM_000165.png']\n"
     ]
    }
   ],
   "source": [
    "print([t_path[0] for t_path in train_sem_by_depths])"
   ]
  },
  {
   "cell_type": "code",
   "execution_count": 11,
   "metadata": {},
   "outputs": [
    {
     "name": "stdout",
     "output_type": "stream",
     "text": [
      "516\n",
      "515\n",
      "514\n",
      "514\n"
     ]
    }
   ],
   "source": [
    "for depth in depth_list:\n",
    "    print(len(os.listdir(f'/shared/Samsung/train/SEM/{depth}')))"
   ]
  },
  {
   "cell_type": "markdown",
   "metadata": {},
   "source": [
    "## Average Depth"
   ]
  },
  {
   "cell_type": "code",
   "execution_count": 82,
   "metadata": {},
   "outputs": [
    {
     "data": {
      "text/html": [
       "<div>\n",
       "<style scoped>\n",
       "    .dataframe tbody tr th:only-of-type {\n",
       "        vertical-align: middle;\n",
       "    }\n",
       "\n",
       "    .dataframe tbody tr th {\n",
       "        vertical-align: top;\n",
       "    }\n",
       "\n",
       "    .dataframe thead th {\n",
       "        text-align: right;\n",
       "    }\n",
       "</style>\n",
       "<table border=\"1\" class=\"dataframe\">\n",
       "  <thead>\n",
       "    <tr style=\"text-align: right;\">\n",
       "      <th></th>\n",
       "      <th>0</th>\n",
       "      <th>1</th>\n",
       "    </tr>\n",
       "  </thead>\n",
       "  <tbody>\n",
       "    <tr>\n",
       "      <th>0</th>\n",
       "      <td>depth_140_site_00233</td>\n",
       "      <td>138.966170</td>\n",
       "    </tr>\n",
       "    <tr>\n",
       "      <th>1</th>\n",
       "      <td>depth_140_site_00272</td>\n",
       "      <td>139.588011</td>\n",
       "    </tr>\n",
       "    <tr>\n",
       "      <th>2</th>\n",
       "      <td>depth_140_site_00183</td>\n",
       "      <td>137.022387</td>\n",
       "    </tr>\n",
       "    <tr>\n",
       "      <th>3</th>\n",
       "      <td>depth_140_site_00204</td>\n",
       "      <td>138.401329</td>\n",
       "    </tr>\n",
       "    <tr>\n",
       "      <th>4</th>\n",
       "      <td>depth_140_site_00187</td>\n",
       "      <td>139.402107</td>\n",
       "    </tr>\n",
       "    <tr>\n",
       "      <th>...</th>\n",
       "      <td>...</td>\n",
       "      <td>...</td>\n",
       "    </tr>\n",
       "    <tr>\n",
       "      <th>2054</th>\n",
       "      <td>depth_130_site_00025</td>\n",
       "      <td>129.598281</td>\n",
       "    </tr>\n",
       "    <tr>\n",
       "      <th>2055</th>\n",
       "      <td>depth_130_site_00431</td>\n",
       "      <td>126.778640</td>\n",
       "    </tr>\n",
       "    <tr>\n",
       "      <th>2056</th>\n",
       "      <td>depth_130_site_00253</td>\n",
       "      <td>130.063236</td>\n",
       "    </tr>\n",
       "    <tr>\n",
       "      <th>2057</th>\n",
       "      <td>depth_130_site_00257</td>\n",
       "      <td>129.374490</td>\n",
       "    </tr>\n",
       "    <tr>\n",
       "      <th>2058</th>\n",
       "      <td>depth_130_site_00471</td>\n",
       "      <td>126.287762</td>\n",
       "    </tr>\n",
       "  </tbody>\n",
       "</table>\n",
       "<p>2059 rows × 2 columns</p>\n",
       "</div>"
      ],
      "text/plain": [
       "                         0           1\n",
       "0     depth_140_site_00233  138.966170\n",
       "1     depth_140_site_00272  139.588011\n",
       "2     depth_140_site_00183  137.022387\n",
       "3     depth_140_site_00204  138.401329\n",
       "4     depth_140_site_00187  139.402107\n",
       "...                    ...         ...\n",
       "2054  depth_130_site_00025  129.598281\n",
       "2055  depth_130_site_00431  126.778640\n",
       "2056  depth_130_site_00253  130.063236\n",
       "2057  depth_130_site_00257  129.374490\n",
       "2058  depth_130_site_00471  126.287762\n",
       "\n",
       "[2059 rows x 2 columns]"
      ]
     },
     "execution_count": 82,
     "metadata": {},
     "output_type": "execute_result"
    }
   ],
   "source": [
    "average_depth = pd.read_csv('/shared/Samsung/train/average_depth.csv')\n",
    "average_depth"
   ]
  },
  {
   "cell_type": "code",
   "execution_count": 95,
   "metadata": {},
   "outputs": [
    {
     "data": {
      "text/html": [
       "<div>\n",
       "<style scoped>\n",
       "    .dataframe tbody tr th:only-of-type {\n",
       "        vertical-align: middle;\n",
       "    }\n",
       "\n",
       "    .dataframe tbody tr th {\n",
       "        vertical-align: top;\n",
       "    }\n",
       "\n",
       "    .dataframe thead th {\n",
       "        text-align: right;\n",
       "    }\n",
       "</style>\n",
       "<table border=\"1\" class=\"dataframe\">\n",
       "  <thead>\n",
       "    <tr style=\"text-align: right;\">\n",
       "      <th></th>\n",
       "      <th>0</th>\n",
       "      <th>1</th>\n",
       "      <th>depth</th>\n",
       "    </tr>\n",
       "  </thead>\n",
       "  <tbody>\n",
       "    <tr>\n",
       "      <th>0</th>\n",
       "      <td>depth_140_site_00233</td>\n",
       "      <td>138.966170</td>\n",
       "      <td>140</td>\n",
       "    </tr>\n",
       "    <tr>\n",
       "      <th>1</th>\n",
       "      <td>depth_140_site_00272</td>\n",
       "      <td>139.588011</td>\n",
       "      <td>140</td>\n",
       "    </tr>\n",
       "    <tr>\n",
       "      <th>2</th>\n",
       "      <td>depth_140_site_00183</td>\n",
       "      <td>137.022387</td>\n",
       "      <td>140</td>\n",
       "    </tr>\n",
       "    <tr>\n",
       "      <th>3</th>\n",
       "      <td>depth_140_site_00204</td>\n",
       "      <td>138.401329</td>\n",
       "      <td>140</td>\n",
       "    </tr>\n",
       "    <tr>\n",
       "      <th>4</th>\n",
       "      <td>depth_140_site_00187</td>\n",
       "      <td>139.402107</td>\n",
       "      <td>140</td>\n",
       "    </tr>\n",
       "    <tr>\n",
       "      <th>...</th>\n",
       "      <td>...</td>\n",
       "      <td>...</td>\n",
       "      <td>...</td>\n",
       "    </tr>\n",
       "    <tr>\n",
       "      <th>2054</th>\n",
       "      <td>depth_130_site_00025</td>\n",
       "      <td>129.598281</td>\n",
       "      <td>130</td>\n",
       "    </tr>\n",
       "    <tr>\n",
       "      <th>2055</th>\n",
       "      <td>depth_130_site_00431</td>\n",
       "      <td>126.778640</td>\n",
       "      <td>130</td>\n",
       "    </tr>\n",
       "    <tr>\n",
       "      <th>2056</th>\n",
       "      <td>depth_130_site_00253</td>\n",
       "      <td>130.063236</td>\n",
       "      <td>130</td>\n",
       "    </tr>\n",
       "    <tr>\n",
       "      <th>2057</th>\n",
       "      <td>depth_130_site_00257</td>\n",
       "      <td>129.374490</td>\n",
       "      <td>130</td>\n",
       "    </tr>\n",
       "    <tr>\n",
       "      <th>2058</th>\n",
       "      <td>depth_130_site_00471</td>\n",
       "      <td>126.287762</td>\n",
       "      <td>130</td>\n",
       "    </tr>\n",
       "  </tbody>\n",
       "</table>\n",
       "<p>2059 rows × 3 columns</p>\n",
       "</div>"
      ],
      "text/plain": [
       "                         0           1  depth\n",
       "0     depth_140_site_00233  138.966170    140\n",
       "1     depth_140_site_00272  139.588011    140\n",
       "2     depth_140_site_00183  137.022387    140\n",
       "3     depth_140_site_00204  138.401329    140\n",
       "4     depth_140_site_00187  139.402107    140\n",
       "...                    ...         ...    ...\n",
       "2054  depth_130_site_00025  129.598281    130\n",
       "2055  depth_130_site_00431  126.778640    130\n",
       "2056  depth_130_site_00253  130.063236    130\n",
       "2057  depth_130_site_00257  129.374490    130\n",
       "2058  depth_130_site_00471  126.287762    130\n",
       "\n",
       "[2059 rows x 3 columns]"
      ]
     },
     "execution_count": 95,
     "metadata": {},
     "output_type": "execute_result"
    }
   ],
   "source": [
    "average_depth['depth'] = average_depth['0'].apply(lambda x: int(x.split('_')[1]))\n",
    "average_depth"
   ]
  },
  {
   "cell_type": "code",
   "execution_count": 102,
   "metadata": {},
   "outputs": [
    {
     "name": "stdout",
     "output_type": "stream",
     "text": [
      "140 : 138.22027354241257\n",
      "130 : 128.2240695896887\n",
      "120 : 118.55704711941762\n",
      "110 : 108.69768481337212\n"
     ]
    }
   ],
   "source": [
    "for depth in [140, 130, 120, 110]:\n",
    "    m = average_depth[average_depth['depth']==depth]['1'].mean()\n",
    "\n",
    "    print(depth, ':', m)"
   ]
  },
  {
   "cell_type": "code",
   "execution_count": 115,
   "metadata": {},
   "outputs": [
    {
     "name": "stderr",
     "output_type": "stream",
     "text": [
      "100%|██████████| 15166/15166 [00:10<00:00, 1458.32it/s]\n",
      "  0%|          | 66/15166 [00:00<00:23, 656.36it/s]"
     ]
    },
    {
     "name": "stdout",
     "output_type": "stream",
     "text": [
      "Case_1 : 118.22702867586366\n"
     ]
    },
    {
     "name": "stderr",
     "output_type": "stream",
     "text": [
      "100%|██████████| 15166/15166 [00:10<00:00, 1411.08it/s]\n",
      "  0%|          | 63/15166 [00:00<00:24, 627.18it/s]"
     ]
    },
    {
     "name": "stdout",
     "output_type": "stream",
     "text": [
      "Case_2 : 116.38813855065669\n"
     ]
    },
    {
     "name": "stderr",
     "output_type": "stream",
     "text": [
      "100%|██████████| 15166/15166 [00:13<00:00, 1120.98it/s]\n",
      "  1%|▏         | 224/15166 [00:00<00:06, 2157.91it/s]"
     ]
    },
    {
     "name": "stdout",
     "output_type": "stream",
     "text": [
      "Case_3 : 114.66024697056281\n"
     ]
    },
    {
     "name": "stderr",
     "output_type": "stream",
     "text": [
      "100%|██████████| 15166/15166 [00:09<00:00, 1594.78it/s]"
     ]
    },
    {
     "name": "stdout",
     "output_type": "stream",
     "text": [
      "Case_4 : 113.03569715823893\n"
     ]
    },
    {
     "name": "stderr",
     "output_type": "stream",
     "text": [
      "\n"
     ]
    }
   ],
   "source": [
    "for case, paths in zip(depth_list, train_sem_by_depths):\n",
    "    avgs = []\n",
    "    for path in tqdm(paths):\n",
    "        depth = cv2.imread(path)\n",
    "        avg = np.average(depth)\n",
    "        avgs.append(avg)\n",
    "    case_avg = np.average(avgs)\n",
    "    print(case, \":\", case_avg)"
   ]
  },
  {
   "cell_type": "code",
   "execution_count": 106,
   "metadata": {},
   "outputs": [
    {
     "name": "stdout",
     "output_type": "stream",
     "text": [
      "[21663, 21663, 21663, 21663]\n"
     ]
    }
   ],
   "source": [
    "case_list = ['Case_1', 'Case_2', 'Case_3', 'Case_4']\n",
    "simulation_depth_by_case = []\n",
    "\n",
    "for case in case_list:\n",
    "    t_path = os.path.join(data_path, 'simulation_data', 'Depth', case, '*', '*.png')\n",
    "    t_path = np.array(sorted(glob(t_path)))\n",
    "    simulation_depth_by_case.append(t_path)\n",
    "\n",
    "print([len(t_path) for t_path in simulation_depth_by_case])"
   ]
  },
  {
   "cell_type": "code",
   "execution_count": 112,
   "metadata": {},
   "outputs": [
    {
     "name": "stderr",
     "output_type": "stream",
     "text": [
      "100%|██████████| 21663/21663 [00:30<00:00, 705.32it/s] \n",
      "  0%|          | 24/21663 [00:00<02:18, 156.54it/s]"
     ]
    },
    {
     "name": "stdout",
     "output_type": "stream",
     "text": [
      "Case_1 : 101.7664403489864\n"
     ]
    },
    {
     "name": "stderr",
     "output_type": "stream",
     "text": [
      "100%|██████████| 21663/21663 [02:15<00:00, 159.62it/s]\n",
      "  0%|          | 64/21663 [00:00<00:34, 627.71it/s]"
     ]
    },
    {
     "name": "stdout",
     "output_type": "stream",
     "text": [
      "Case_2 : 108.28920790388032\n"
     ]
    },
    {
     "name": "stderr",
     "output_type": "stream",
     "text": [
      "100%|██████████| 21663/21663 [01:59<00:00, 181.82it/s]\n",
      "  0%|          | 6/21663 [00:00<06:14, 57.87it/s]"
     ]
    },
    {
     "name": "stdout",
     "output_type": "stream",
     "text": [
      "Case_3 : 114.81366495409051\n"
     ]
    },
    {
     "name": "stderr",
     "output_type": "stream",
     "text": [
      "100%|██████████| 21663/21663 [01:31<00:00, 236.17it/s]"
     ]
    },
    {
     "name": "stdout",
     "output_type": "stream",
     "text": [
      "Case_4 : 121.34116433272469\n"
     ]
    },
    {
     "name": "stderr",
     "output_type": "stream",
     "text": [
      "\n"
     ]
    }
   ],
   "source": [
    "for case, paths in zip(case_list, simulation_depth_by_case):\n",
    "    avgs = []\n",
    "    for path in tqdm(paths):\n",
    "        depth = cv2.imread(path)\n",
    "        avg = np.average(depth)\n",
    "        avgs.append(avg)\n",
    "    case_avg = np.average(avgs)\n",
    "    print(case, \":\", case_avg)"
   ]
  },
  {
   "cell_type": "code",
   "execution_count": 114,
   "metadata": {},
   "outputs": [
    {
     "name": "stdout",
     "output_type": "stream",
     "text": [
      "[43326, 43326, 43326, 43326]\n",
      "Case_1 : 102.34009511465402\n",
      "Case_2 : 100.60741177379806\n",
      "Case_3 : 99.10810123342453\n",
      "Case_4 : 97.80896715720908\n"
     ]
    }
   ],
   "source": [
    "case_list = ['Case_1', 'Case_2', 'Case_3', 'Case_4']\n",
    "simulation_sem_by_case = []\n",
    "\n",
    "for case in case_list:\n",
    "    t_path = os.path.join(data_path, 'simulation_data', 'SEM', case, '*', '*.png')\n",
    "    t_path = np.array(sorted(glob(t_path)))\n",
    "    simulation_sem_by_case.append(t_path)\n",
    "\n",
    "print([len(t_path) for t_path in simulation_sem_by_case])\n",
    "\n",
    "for case, paths in zip(case_list, simulation_sem_by_case):\n",
    "    avgs = []\n",
    "    for path in paths:\n",
    "        sem = cv2.imread(path)\n",
    "        avg = np.average(sem)\n",
    "        avgs.append(avg)\n",
    "    case_avg = np.average(avgs)\n",
    "    print(case, \":\", case_avg)"
   ]
  },
  {
   "cell_type": "code",
   "execution_count": 118,
   "metadata": {},
   "outputs": [
    {
     "data": {
      "text/plain": [
       "'Case_1'"
      ]
     },
     "execution_count": 118,
     "metadata": {},
     "output_type": "execute_result"
    }
   ],
   "source": [
    "simulation_sem_by_case[0][0].split('/')[-3]"
   ]
  },
  {
   "cell_type": "markdown",
   "metadata": {},
   "source": [
    "## Denoising"
   ]
  },
  {
   "cell_type": "code",
   "execution_count": 79,
   "metadata": {},
   "outputs": [
    {
     "data": {
      "text/plain": [
       "<matplotlib.image.AxesImage at 0x7f37f068c9d0>"
      ]
     },
     "execution_count": 79,
     "metadata": {},
     "output_type": "execute_result"
    },
    {
     "data": {
      "image/png": "[encoded data removed]",
      "text/plain": [
       "<Figure size 1440x720 with 5 Axes>"
      ]
     },
     "metadata": {
      "needs_background": "light"
     },
     "output_type": "display_data"
    }
   ],
   "source": [
    "import albumentations as A\n",
    "\n",
    "idx = 1\n",
    "\n",
    "sem_img = cv2.imread(simulation_sem_paths[idx], cv2.IMREAD_GRAYSCALE)\n",
    "blur_img = A.GaussianBlur(blur_limit=7, always_apply=True)(image=sem_img)['image']\n",
    "\n",
    "rate = 0.2\n",
    "sum_img = sem_img*rate + blur_img*(1-rate)\n",
    "\n",
    "train_img = cv2.imread(train_sem_paths[idx], cv2.IMREAD_GRAYSCALE)\n",
    "train_blur_img = A.GaussianBlur(blur_limit=3, always_apply=True)(image=train_img)['image']\n",
    "\n",
    "\n",
    "\n",
    "plt.figure(figsize=(20, 10))\n",
    "plt.subplot(1, 5, 1)\n",
    "plt.imshow(sem_img)\n",
    "plt.subplot(1, 5, 2)\n",
    "plt.imshow(blur_img)\n",
    "plt.subplot(1, 5, 3)\n",
    "plt.imshow(sum_img)\n",
    "plt.subplot(1, 5, 4)\n",
    "plt.imshow(train_img)\n",
    "plt.subplot(1, 5, 5)\n",
    "plt.imshow(train_blur_img)"
   ]
  },
  {
   "cell_type": "code",
   "execution_count": 81,
   "metadata": {},
   "outputs": [
    {
     "data": {
      "text/plain": [
       "<matplotlib.image.AxesImage at 0x7f37f0353700>"
      ]
     },
     "execution_count": 81,
     "metadata": {},
     "output_type": "execute_result"
    },
    {
     "data": {
      "image/png": "[encoded data removed]",
      "text/plain": [
       "<Figure size 1440x720 with 5 Axes>"
      ]
     },
     "metadata": {
      "needs_background": "light"
     },
     "output_type": "display_data"
    }
   ],
   "source": [
    "import albumentations as A\n",
    "\n",
    "idx = 1\n",
    "\n",
    "train_blur_img1 = A.GaussianBlur(blur_limit=3, always_apply=True)(image=train_img)['image']\n",
    "train_blur_img2 = A.GaussianBlur(blur_limit=5, always_apply=True)(image=train_img)['image']\n",
    "train_blur_img3 = A.GaussianBlur(blur_limit=7, always_apply=True)(image=train_img)['image']\n",
    "train_blur_img4 = A.GaussianBlur(blur_limit=9, always_apply=True)(image=train_img)['image']\n",
    "train_blur_img5 = A.GaussianBlur(blur_limit=11, always_apply=True)(image=train_img)['image']\n",
    "\n",
    "\n",
    "\n",
    "plt.figure(figsize=(20, 10))\n",
    "plt.subplot(1, 5, 1)\n",
    "plt.imshow(train_blur_img1)\n",
    "plt.subplot(1, 5, 2)\n",
    "plt.imshow(train_blur_img2)\n",
    "plt.subplot(1, 5, 3)\n",
    "plt.imshow(train_blur_img3)\n",
    "plt.subplot(1, 5, 4)\n",
    "plt.imshow(train_blur_img4)\n",
    "plt.subplot(1, 5, 5)\n",
    "plt.imshow(train_blur_img5)"
   ]
  },
  {
   "cell_type": "markdown",
   "metadata": {},
   "source": [
    "## Normalization"
   ]
  },
  {
   "cell_type": "code",
   "execution_count": 18,
   "metadata": {},
   "outputs": [],
   "source": [
    "def analyze_data(sem_path, depth_path=None):\n",
    "    sem_img = cv2.imread(sem_path, cv2.IMREAD_GRAYSCALE)\n",
    "\n",
    "    # print(sem_img)\n",
    "    print(f'SEM mean = {np.mean(sem_img)}')\n",
    "    print(f'SEM std = {np.std(sem_img)}')\n",
    "\n",
    "    if depth_path is not None:\n",
    "        depth_img = cv2.imread(depth_path, cv2.IMREAD_GRAYSCALE)\n",
    "\n",
    "        print(f'depth mean = {np.mean(depth_img)}')\n",
    "        print(f'depth std = {np.std(depth_img)}')\n",
    "\n",
    "        plt.subplot(1, 2, 1)\n",
    "        plt.imshow(sem_img)\n",
    "        plt.subplot(1, 2, 2)\n",
    "        plt.imshow(depth_img)\n",
    "    else:\n",
    "        plt.imshow(sem_img)\n",
    "    plt.title(sem_path)"
   ]
  },
  {
   "cell_type": "code",
   "execution_count": 19,
   "metadata": {},
   "outputs": [
    {
     "name": "stdout",
     "output_type": "stream",
     "text": [
      "[[138 140 120 ... 130 122 108]\n",
      " [124 136 110 ... 127 119 141]\n",
      " [130 129 137 ... 132 115 135]\n",
      " ...\n",
      " [132 142 132 ... 120 116 124]\n",
      " [130 118 136 ... 135 128 112]\n",
      " [153 129 133 ... 135 116 133]]\n",
      "SEM mean = 100.92621527777777\n",
      "SEM std = 54.03807970431205\n",
      "depth mean = 102.18315972222223\n",
      "depth std = 45.77351860799972\n"
     ]
    },
    {
     "data": {
      "image/png": "[encoded data removed]",
      "text/plain": [
       "<Figure size 432x288 with 2 Axes>"
      ]
     },
     "metadata": {
      "needs_background": "light"
     },
     "output_type": "display_data"
    }
   ],
   "source": [
    "analyze_data(simulation_sem_paths[0], simulation_depth_paths[0])"
   ]
  },
  {
   "cell_type": "code",
   "execution_count": 15,
   "metadata": {},
   "outputs": [
    {
     "data": {
      "text/plain": [
       "(array([[138, 140, 120, ..., 130, 122, 108],\n",
       "        [124, 136, 110, ..., 127, 119, 141],\n",
       "        [130, 129, 137, ..., 132, 115, 135],\n",
       "        ...,\n",
       "        [132, 142, 132, ..., 120, 116, 124],\n",
       "        [130, 118, 136, ..., 135, 128, 112],\n",
       "        [153, 129, 133, ..., 135, 116, 133]], dtype=uint8),\n",
       " 100.92621527777777,\n",
       " 54.03807970431205)"
      ]
     },
     "execution_count": 15,
     "metadata": {},
     "output_type": "execute_result"
    },
    {
     "data": {
      "image/png": "[encoded data removed]",
      "text/plain": [
       "<Figure size 432x288 with 1 Axes>"
      ]
     },
     "metadata": {
      "needs_background": "light"
     },
     "output_type": "display_data"
    }
   ],
   "source": [
    "sample_simul_sem = cv2.imread(simulation_sem_paths[0], cv2.IMREAD_GRAYSCALE)\n",
    "plt.imshow(sample_simul_sem)\n",
    "sample_simul_sem, np.mean(sample_simul_sem), np.std(sample_simul_sem)"
   ]
  },
  {
   "cell_type": "code",
   "execution_count": 13,
   "metadata": {},
   "outputs": [
    {
     "data": {
      "text/plain": [
       "(array([[161, 156, 154, ..., 147, 155, 149],\n",
       "        [161, 151, 149, ..., 155, 144, 152],\n",
       "        [150, 156, 159, ..., 157, 152, 153],\n",
       "        ...,\n",
       "        [157, 145, 157, ..., 152, 145, 157],\n",
       "        [149, 148, 142, ..., 164, 152, 153],\n",
       "        [158, 149, 148, ..., 157, 143, 150]], dtype=uint8),\n",
       " '/shared/Samsung/train/SEM/Depth_110/site_00000/SEM_043510.png')"
      ]
     },
     "execution_count": 13,
     "metadata": {},
     "output_type": "execute_result"
    },
    {
     "data": {
      "image/png": "[encoded data removed]",
      "text/plain": [
       "<Figure size 432x288 with 1 Axes>"
      ]
     },
     "metadata": {
      "needs_background": "light"
     },
     "output_type": "display_data"
    }
   ],
   "source": [
    "sample_simul_sem = cv2.imread(train_sem_paths[0], cv2.IMREAD_GRAYSCALE)\n",
    "plt.imshow(sample_simul_sem)\n",
    "sample_simul_sem, train_sem_paths[0]"
   ]
  },
  {
   "cell_type": "code",
   "execution_count": 7,
   "metadata": {},
   "outputs": [
    {
     "data": {
      "text/plain": [
       "173304"
      ]
     },
     "execution_count": 7,
     "metadata": {},
     "output_type": "execute_result"
    }
   ],
   "source": [
    "simul_ds = SEMDataset(simulation_sem_paths, simulation_depth_paths)\n",
    "len(simul_ds)"
   ]
  },
  {
   "cell_type": "code",
   "execution_count": 8,
   "metadata": {},
   "outputs": [
    {
     "data": {
      "text/plain": [
       "60664"
      ]
     },
     "execution_count": 8,
     "metadata": {},
     "output_type": "execute_result"
    }
   ],
   "source": [
    "train_ds = SEMDataset(train_sem_paths)\n",
    "len(train_ds)"
   ]
  },
  {
   "cell_type": "code",
   "execution_count": 10,
   "metadata": {},
   "outputs": [
    {
     "data": {
      "text/plain": [
       "[array([0.39578912], dtype=float32),\n",
       " array([0.39042416], dtype=float32),\n",
       " array([0.41139483], dtype=float32),\n",
       " array([0.40735748], dtype=float32),\n",
       " array([0.41086033], dtype=float32),\n",
       " array([0.39057508], dtype=float32),\n",
       " array([0.38358414], dtype=float32),\n",
       " array([0.41487727], dtype=float32),\n",
       " array([0.37195334], dtype=float32),\n",
       " array([0.3924383], dtype=float32),\n",
       " array([0.39306808], dtype=float32),\n",
       " array([0.41387868], dtype=float32),\n",
       " array([0.4014139], dtype=float32),\n",
       " array([0.40581203], dtype=float32),\n",
       " array([0.4152914], dtype=float32),\n",
       " array([0.4002814], dtype=float32),\n",
       " array([0.40693763], dtype=float32),\n",
       " array([0.39911383], dtype=float32),\n",
       " array([0.40740627], dtype=float32),\n",
       " array([0.40141842], dtype=float32),\n",
       " array([0.40535024], dtype=float32),\n",
       " array([0.3961999], dtype=float32),\n",
       " array([0.40720883], dtype=float32),\n",
       " array([0.41180786], dtype=float32),\n",
       " array([0.3820023], dtype=float32),\n",
       " array([0.39103124], dtype=float32),\n",
       " array([0.37980554], dtype=float32),\n",
       " array([0.39926586], dtype=float32),\n",
       " array([0.40066725], dtype=float32),\n",
       " array([0.38949373], dtype=float32),\n",
       " array([0.40696377], dtype=float32),\n",
       " array([0.4051096], dtype=float32),\n",
       " array([0.40002272], dtype=float32),\n",
       " array([0.38688046], dtype=float32),\n",
       " array([0.40131173], dtype=float32),\n",
       " array([0.38855532], dtype=float32),\n",
       " array([0.3952501], dtype=float32),\n",
       " array([0.38773945], dtype=float32),\n",
       " array([0.37691766], dtype=float32),\n",
       " array([0.4026314], dtype=float32),\n",
       " array([0.40444013], dtype=float32),\n",
       " array([0.41676995], dtype=float32),\n",
       " array([0.37577614], dtype=float32),\n",
       " array([0.41180673], dtype=float32),\n",
       " array([0.38408226], dtype=float32),\n",
       " array([0.38761804], dtype=float32),\n",
       " array([0.3908463], dtype=float32),\n",
       " array([0.39981052], dtype=float32),\n",
       " array([0.3922533], dtype=float32),\n",
       " array([0.397936], dtype=float32),\n",
       " array([0.39160427], dtype=float32),\n",
       " array([0.3980154], dtype=float32),\n",
       " array([0.40505627], dtype=float32),\n",
       " array([0.3976455], dtype=float32),\n",
       " array([0.39395767], dtype=float32),\n",
       " array([0.37796274], dtype=float32),\n",
       " array([0.39854756], dtype=float32),\n",
       " array([0.39539534], dtype=float32),\n",
       " array([0.38759762], dtype=float32),\n",
       " array([0.40375137], dtype=float32),\n",
       " array([0.4068015], dtype=float32),\n",
       " array([0.3937534], dtype=float32),\n",
       " array([0.39236], dtype=float32),\n",
       " array([0.3933268], dtype=float32),\n",
       " array([0.3851387], dtype=float32),\n",
       " array([0.40198123], dtype=float32),\n",
       " array([0.3973561], dtype=float32),\n",
       " array([0.40554646], dtype=float32),\n",
       " array([0.39600697], dtype=float32),\n",
       " array([0.40670955], dtype=float32),\n",
       " array([0.39550203], dtype=float32),\n",
       " array([0.39043555], dtype=float32),\n",
       " array([0.37909296], dtype=float32),\n",
       " array([0.3915169], dtype=float32),\n",
       " array([0.3867273], dtype=float32),\n",
       " array([0.38508078], dtype=float32),\n",
       " array([0.41127905], dtype=float32),\n",
       " array([0.38364768], dtype=float32),\n",
       " array([0.4021083], dtype=float32),\n",
       " array([0.39027554], dtype=float32),\n",
       " array([0.3904344], dtype=float32),\n",
       " array([0.4038081], dtype=float32),\n",
       " array([0.39535677], dtype=float32),\n",
       " array([0.39012235], dtype=float32),\n",
       " array([0.40123913], dtype=float32),\n",
       " array([0.4081461], dtype=float32),\n",
       " array([0.39564043], dtype=float32),\n",
       " array([0.39884603], dtype=float32),\n",
       " array([0.3922136], dtype=float32),\n",
       " array([0.38486293], dtype=float32),\n",
       " array([0.39213535], dtype=float32),\n",
       " array([0.40674818], dtype=float32),\n",
       " array([0.39664808], dtype=float32),\n",
       " array([0.40750957], dtype=float32),\n",
       " array([0.40605485], dtype=float32),\n",
       " array([0.4021526], dtype=float32),\n",
       " array([0.42247528], dtype=float32),\n",
       " array([0.41306284], dtype=float32),\n",
       " array([0.3878257], dtype=float32),\n",
       " array([0.41451755], dtype=float32),\n",
       " array([0.40243286], dtype=float32),\n",
       " array([0.39653346], dtype=float32),\n",
       " array([0.3975059], dtype=float32),\n",
       " array([0.4010746], dtype=float32),\n",
       " array([0.4157703], dtype=float32),\n",
       " array([0.39171663], dtype=float32),\n",
       " array([0.39808008], dtype=float32),\n",
       " array([0.40207994], dtype=float32),\n",
       " array([0.39552358], dtype=float32),\n",
       " array([0.37439975], dtype=float32),\n",
       " array([0.3705939], dtype=float32),\n",
       " array([0.3848675], dtype=float32),\n",
       " array([0.40362543], dtype=float32),\n",
       " array([0.36930716], dtype=float32),\n",
       " array([0.3835739], dtype=float32),\n",
       " array([0.3885882], dtype=float32),\n",
       " array([0.3802492], dtype=float32),\n",
       " array([0.4056554], dtype=float32),\n",
       " array([0.41110885], dtype=float32),\n",
       " array([0.39588553], dtype=float32),\n",
       " array([0.40873164], dtype=float32),\n",
       " array([0.37638664], dtype=float32),\n",
       " array([0.41272697], dtype=float32),\n",
       " array([0.40844002], dtype=float32),\n",
       " array([0.37870824], dtype=float32),\n",
       " array([0.4170752], dtype=float32),\n",
       " array([0.38411406], dtype=float32),\n",
       " array([0.39381582], dtype=float32),\n",
       " array([0.40670276], dtype=float32),\n",
       " array([0.39383852], dtype=float32),\n",
       " array([0.39779302], dtype=float32),\n",
       " array([0.40969047], dtype=float32),\n",
       " array([0.41107935], dtype=float32),\n",
       " array([0.38908067], dtype=float32),\n",
       " array([0.39241105], dtype=float32),\n",
       " array([0.3866569], dtype=float32),\n",
       " array([0.40089756], dtype=float32),\n",
       " array([0.4097903], dtype=float32),\n",
       " array([0.39536017], dtype=float32),\n",
       " array([0.3924122], dtype=float32),\n",
       " array([0.39568695], dtype=float32),\n",
       " array([0.3801153], dtype=float32),\n",
       " array([0.39878136], dtype=float32),\n",
       " array([0.3961227], dtype=float32),\n",
       " array([0.3867114], dtype=float32),\n",
       " array([0.3960183], dtype=float32),\n",
       " array([0.39803356], dtype=float32),\n",
       " array([0.39677626], dtype=float32),\n",
       " array([0.40071374], dtype=float32),\n",
       " array([0.3930533], dtype=float32),\n",
       " array([0.39798704], dtype=float32),\n",
       " array([0.40237385], dtype=float32),\n",
       " array([0.39609662], dtype=float32),\n",
       " array([0.41244105], dtype=float32),\n",
       " array([0.37982368], dtype=float32),\n",
       " array([0.41061187], dtype=float32),\n",
       " array([0.40928763], dtype=float32),\n",
       " array([0.38959128], dtype=float32),\n",
       " array([0.37736702], dtype=float32),\n",
       " array([0.40273583], dtype=float32),\n",
       " array([0.40836284], dtype=float32),\n",
       " array([0.4081858], dtype=float32),\n",
       " array([0.40032685], dtype=float32),\n",
       " array([0.3801573], dtype=float32),\n",
       " array([0.39801767], dtype=float32),\n",
       " array([0.40459332], dtype=float32),\n",
       " array([0.40853646], dtype=float32),\n",
       " array([0.38164374], dtype=float32),\n",
       " array([0.37588057], dtype=float32),\n",
       " array([0.39204344], dtype=float32),\n",
       " array([0.4055102], dtype=float32),\n",
       " array([0.3984625], dtype=float32),\n",
       " array([0.4007285], dtype=float32),\n",
       " array([0.40203682], dtype=float32),\n",
       " array([0.40132424], dtype=float32),\n",
       " array([0.41528347], dtype=float32),\n",
       " array([0.37798202], dtype=float32),\n",
       " array([0.39030957], dtype=float32),\n",
       " array([0.3796183], dtype=float32),\n",
       " array([0.39010987], dtype=float32),\n",
       " array([0.3979632], dtype=float32),\n",
       " array([0.39148965], dtype=float32),\n",
       " array([0.40713057], dtype=float32),\n",
       " array([0.4052526], dtype=float32),\n",
       " array([0.41496575], dtype=float32),\n",
       " array([0.39726308], dtype=float32),\n",
       " array([0.4020879], dtype=float32),\n",
       " array([0.3865673], dtype=float32),\n",
       " array([0.3832301], dtype=float32),\n",
       " array([0.38793805], dtype=float32),\n",
       " array([0.37882403], dtype=float32),\n",
       " array([0.40445152], dtype=float32),\n",
       " array([0.37963873], dtype=float32),\n",
       " array([0.3989368], dtype=float32),\n",
       " array([0.39485747], dtype=float32),\n",
       " array([0.4000091], dtype=float32),\n",
       " array([0.399048], dtype=float32),\n",
       " array([0.40105987], dtype=float32),\n",
       " array([0.39924544], dtype=float32),\n",
       " array([0.4035789], dtype=float32),\n",
       " array([0.40177244], dtype=float32),\n",
       " array([0.40766957], dtype=float32),\n",
       " array([0.38488564], dtype=float32),\n",
       " array([0.40476128], dtype=float32),\n",
       " array([0.37089688], dtype=float32),\n",
       " array([0.3887289], dtype=float32),\n",
       " array([0.4073155], dtype=float32),\n",
       " array([0.3982866], dtype=float32),\n",
       " array([0.40126184], dtype=float32),\n",
       " array([0.39564386], dtype=float32),\n",
       " array([0.37670437], dtype=float32),\n",
       " array([0.39550206], dtype=float32),\n",
       " array([0.38796523], dtype=float32),\n",
       " array([0.3775066], dtype=float32),\n",
       " array([0.37921092], dtype=float32),\n",
       " array([0.385167], dtype=float32),\n",
       " array([0.39985478], dtype=float32),\n",
       " array([0.39543507], dtype=float32),\n",
       " array([0.40643725], dtype=float32),\n",
       " array([0.38645154], dtype=float32),\n",
       " array([0.36051542], dtype=float32),\n",
       " array([0.4018065], dtype=float32),\n",
       " array([0.39932942], dtype=float32),\n",
       " array([0.41155484], dtype=float32),\n",
       " array([0.3974526], dtype=float32),\n",
       " array([0.38724816], dtype=float32),\n",
       " array([0.38809463], dtype=float32),\n",
       " array([0.39915466], dtype=float32),\n",
       " array([0.41386506], dtype=float32),\n",
       " array([0.3804943], dtype=float32),\n",
       " array([0.40171343], dtype=float32),\n",
       " array([0.40647128], dtype=float32),\n",
       " array([0.39267883], dtype=float32),\n",
       " array([0.41759944], dtype=float32),\n",
       " array([0.4157453], dtype=float32),\n",
       " array([0.4145039], dtype=float32),\n",
       " array([0.3858059], dtype=float32),\n",
       " array([0.39845452], dtype=float32),\n",
       " array([0.3841299], dtype=float32),\n",
       " array([0.39110047], dtype=float32),\n",
       " array([0.3981527], dtype=float32),\n",
       " array([0.39582768], dtype=float32),\n",
       " array([0.40584832], dtype=float32),\n",
       " array([0.40835038], dtype=float32),\n",
       " array([0.3913319], dtype=float32),\n",
       " array([0.39801654], dtype=float32),\n",
       " array([0.4031738], dtype=float32),\n",
       " array([0.40649283], dtype=float32),\n",
       " array([0.39442062], dtype=float32),\n",
       " array([0.39237925], dtype=float32),\n",
       " array([0.3929773], dtype=float32),\n",
       " array([0.42655456], dtype=float32),\n",
       " array([0.38992602], dtype=float32),\n",
       " array([0.39995915], dtype=float32),\n",
       " array([0.41379356], dtype=float32),\n",
       " array([0.3973686], dtype=float32),\n",
       " array([0.3999739], dtype=float32),\n",
       " array([0.3964665], dtype=float32),\n",
       " array([0.40892792], dtype=float32),\n",
       " array([0.41734412], dtype=float32),\n",
       " array([0.37699828], dtype=float32),\n",
       " array([0.40239766], dtype=float32),\n",
       " array([0.41534925], dtype=float32),\n",
       " array([0.41257942], dtype=float32),\n",
       " array([0.40946692], dtype=float32),\n",
       " array([0.39793372], dtype=float32),\n",
       " array([0.41232982], dtype=float32),\n",
       " array([0.41367105], dtype=float32),\n",
       " array([0.41090915], dtype=float32),\n",
       " array([0.40807235], dtype=float32),\n",
       " array([0.41281092], dtype=float32),\n",
       " array([0.40468866], dtype=float32),\n",
       " array([0.3742182], dtype=float32),\n",
       " array([0.3759747], dtype=float32),\n",
       " array([0.4039318], dtype=float32),\n",
       " array([0.38566062], dtype=float32),\n",
       " array([0.39943376], dtype=float32),\n",
       " array([0.3928638], dtype=float32),\n",
       " array([0.3995268], dtype=float32),\n",
       " array([0.4038694], dtype=float32),\n",
       " array([0.38965484], dtype=float32),\n",
       " array([0.38200688], dtype=float32),\n",
       " array([0.40606844], dtype=float32),\n",
       " array([0.3958084], dtype=float32),\n",
       " array([0.38878453], dtype=float32),\n",
       " array([0.3858944], dtype=float32),\n",
       " array([0.4073416], dtype=float32),\n",
       " array([0.3768848], dtype=float32),\n",
       " array([0.4017781], dtype=float32),\n",
       " array([0.4154843], dtype=float32),\n",
       " array([0.40373775], dtype=float32),\n",
       " array([0.3762255], dtype=float32),\n",
       " array([0.39491993], dtype=float32),\n",
       " array([0.3813896], dtype=float32),\n",
       " array([0.4065439], dtype=float32),\n",
       " array([0.40913674], dtype=float32),\n",
       " array([0.40253612], dtype=float32),\n",
       " array([0.38474268], dtype=float32),\n",
       " array([0.3830088], dtype=float32),\n",
       " array([0.39931467], dtype=float32),\n",
       " array([0.41036677], dtype=float32),\n",
       " array([0.3934039], dtype=float32),\n",
       " array([0.386085], dtype=float32),\n",
       " array([0.38937342], dtype=float32),\n",
       " array([0.40884513], dtype=float32),\n",
       " array([0.37705725], dtype=float32),\n",
       " array([0.38841346], dtype=float32),\n",
       " array([0.37880132], dtype=float32),\n",
       " array([0.40285835], dtype=float32),\n",
       " array([0.38678855], dtype=float32),\n",
       " array([0.40815634], dtype=float32),\n",
       " array([0.41011825], dtype=float32),\n",
       " array([0.41734752], dtype=float32),\n",
       " array([0.3652801], dtype=float32),\n",
       " array([0.41537312], dtype=float32),\n",
       " array([0.38928038], dtype=float32),\n",
       " array([0.40121645], dtype=float32),\n",
       " array([0.37856984], dtype=float32),\n",
       " array([0.40445828], dtype=float32),\n",
       " array([0.387382], dtype=float32),\n",
       " array([0.40933192], dtype=float32),\n",
       " array([0.3857151], dtype=float32),\n",
       " array([0.40776035], dtype=float32),\n",
       " array([0.4060639], dtype=float32),\n",
       " array([0.38554376], dtype=float32),\n",
       " array([0.39821398], dtype=float32),\n",
       " array([0.3852385], dtype=float32),\n",
       " array([0.38280234], dtype=float32),\n",
       " array([0.39209563], dtype=float32),\n",
       " array([0.410411], dtype=float32),\n",
       " array([0.3955644], dtype=float32),\n",
       " array([0.40898582], dtype=float32),\n",
       " array([0.36689815], dtype=float32),\n",
       " array([0.3942969], dtype=float32),\n",
       " array([0.4035925], dtype=float32),\n",
       " array([0.39864063], dtype=float32),\n",
       " array([0.3949392], dtype=float32),\n",
       " array([0.39241788], dtype=float32),\n",
       " array([0.4129993], dtype=float32),\n",
       " array([0.3892645], dtype=float32),\n",
       " array([0.39573464], dtype=float32),\n",
       " array([0.39986044], dtype=float32),\n",
       " array([0.40405324], dtype=float32),\n",
       " array([0.40136507], dtype=float32),\n",
       " array([0.3951718], dtype=float32),\n",
       " array([0.37687683], dtype=float32),\n",
       " array([0.40631357], dtype=float32),\n",
       " array([0.40795323], dtype=float32),\n",
       " array([0.4018496], dtype=float32),\n",
       " array([0.4043471], dtype=float32),\n",
       " array([0.39800638], dtype=float32),\n",
       " array([0.40002725], dtype=float32),\n",
       " array([0.37962285], dtype=float32),\n",
       " array([0.40339166], dtype=float32),\n",
       " array([0.38960266], dtype=float32),\n",
       " array([0.40183258], dtype=float32),\n",
       " array([0.40742782], dtype=float32),\n",
       " array([0.3809448], dtype=float32),\n",
       " array([0.40332243], dtype=float32),\n",
       " array([0.41366196], dtype=float32),\n",
       " array([0.4103724], dtype=float32),\n",
       " array([0.40260193], dtype=float32),\n",
       " array([0.42380178], dtype=float32),\n",
       " array([0.39959946], dtype=float32),\n",
       " array([0.39295346], dtype=float32),\n",
       " array([0.40303195], dtype=float32),\n",
       " array([0.38411853], dtype=float32),\n",
       " array([0.41015002], dtype=float32),\n",
       " array([0.39629063], dtype=float32),\n",
       " array([0.3799746], dtype=float32),\n",
       " array([0.374781], dtype=float32),\n",
       " array([0.3761688], dtype=float32),\n",
       " array([0.39433894], dtype=float32),\n",
       " array([0.39164624], dtype=float32),\n",
       " array([0.41140616], dtype=float32),\n",
       " array([0.3989799], dtype=float32),\n",
       " array([0.4076582], dtype=float32),\n",
       " array([0.41402507], dtype=float32),\n",
       " array([0.41355985], dtype=float32),\n",
       " array([0.39573237], dtype=float32),\n",
       " array([0.4054886], dtype=float32),\n",
       " array([0.40854213], dtype=float32),\n",
       " array([0.3773069], dtype=float32),\n",
       " array([0.38459402], dtype=float32),\n",
       " array([0.3930567], dtype=float32),\n",
       " array([0.39477807], dtype=float32),\n",
       " array([0.39578798], dtype=float32),\n",
       " array([0.3991263], dtype=float32),\n",
       " array([0.40751976], dtype=float32),\n",
       " array([0.3951616], dtype=float32),\n",
       " array([0.41037697], dtype=float32),\n",
       " array([0.40556583], dtype=float32),\n",
       " array([0.39534882], dtype=float32),\n",
       " array([0.40563047], dtype=float32),\n",
       " array([0.3921126], dtype=float32),\n",
       " array([0.41250795], dtype=float32),\n",
       " array([0.40305352], dtype=float32),\n",
       " array([0.40966436], dtype=float32),\n",
       " array([0.41482162], dtype=float32),\n",
       " array([0.39443877], dtype=float32),\n",
       " array([0.39042303], dtype=float32),\n",
       " array([0.39774647], dtype=float32),\n",
       " array([0.39615673], dtype=float32),\n",
       " array([0.40645882], dtype=float32),\n",
       " array([0.38457587], dtype=float32),\n",
       " array([0.39812094], dtype=float32),\n",
       " array([0.41873413], dtype=float32),\n",
       " array([0.41764477], dtype=float32),\n",
       " array([0.4121233], dtype=float32),\n",
       " array([0.40194264], dtype=float32),\n",
       " array([0.38923156], dtype=float32),\n",
       " array([0.4146866], dtype=float32),\n",
       " array([0.42297116], dtype=float32),\n",
       " array([0.38869482], dtype=float32),\n",
       " array([0.40665284], dtype=float32),\n",
       " array([0.4111259], dtype=float32),\n",
       " array([0.401103], dtype=float32),\n",
       " array([0.4032101], dtype=float32),\n",
       " array([0.41304696], dtype=float32),\n",
       " array([0.40645882], dtype=float32),\n",
       " array([0.39829907], dtype=float32),\n",
       " array([0.39047185], dtype=float32),\n",
       " array([0.4010916], dtype=float32),\n",
       " array([0.4052367], dtype=float32),\n",
       " array([0.39127636], dtype=float32),\n",
       " array([0.4150724], dtype=float32),\n",
       " array([0.40289015], dtype=float32),\n",
       " array([0.40221614], dtype=float32),\n",
       " array([0.38380876], dtype=float32),\n",
       " array([0.38563457], dtype=float32),\n",
       " array([0.37693694], dtype=float32),\n",
       " array([0.40576437], dtype=float32),\n",
       " array([0.39449894], dtype=float32),\n",
       " array([0.40984365], dtype=float32),\n",
       " array([0.4128268], dtype=float32),\n",
       " array([0.39904234], dtype=float32),\n",
       " array([0.3823303], dtype=float32),\n",
       " array([0.383979], dtype=float32),\n",
       " array([0.39599898], dtype=float32),\n",
       " array([0.3991558], dtype=float32),\n",
       " array([0.3809028], dtype=float32),\n",
       " array([0.38244033], dtype=float32),\n",
       " array([0.4059448], dtype=float32),\n",
       " array([0.3961999], dtype=float32),\n",
       " array([0.41591892], dtype=float32),\n",
       " array([0.4084264], dtype=float32),\n",
       " array([0.4077229], dtype=float32),\n",
       " array([0.3834593], dtype=float32),\n",
       " array([0.39892203], dtype=float32),\n",
       " array([0.40812343], dtype=float32),\n",
       " array([0.41827005], dtype=float32),\n",
       " array([0.414791], dtype=float32),\n",
       " array([0.380399], dtype=float32),\n",
       " array([0.397911], dtype=float32),\n",
       " array([0.40402144], dtype=float32),\n",
       " array([0.40313748], dtype=float32),\n",
       " array([0.40073302], dtype=float32),\n",
       " array([0.4027256], dtype=float32),\n",
       " array([0.40027803], dtype=float32),\n",
       " array([0.38270244], dtype=float32),\n",
       " array([0.39443877], dtype=float32),\n",
       " array([0.3757671], dtype=float32),\n",
       " array([0.39276055], dtype=float32),\n",
       " array([0.3877417], dtype=float32),\n",
       " array([0.4020221], dtype=float32),\n",
       " array([0.37547207], dtype=float32),\n",
       " array([0.40979597], dtype=float32),\n",
       " array([0.40885645], dtype=float32),\n",
       " array([0.39927605], dtype=float32),\n",
       " array([0.40465572], dtype=float32),\n",
       " array([0.3854133], dtype=float32),\n",
       " array([0.35766616], dtype=float32),\n",
       " array([0.40065703], dtype=float32),\n",
       " array([0.3981845], dtype=float32),\n",
       " array([0.3992364], dtype=float32),\n",
       " array([0.38579342], dtype=float32),\n",
       " array([0.39152598], dtype=float32),\n",
       " array([0.3910596], dtype=float32),\n",
       " array([0.38565612], dtype=float32),\n",
       " array([0.37702206], dtype=float32),\n",
       " array([0.40732914], dtype=float32),\n",
       " array([0.3965585], dtype=float32),\n",
       " array([0.38869262], dtype=float32),\n",
       " array([0.39739242], dtype=float32),\n",
       " array([0.40748343], dtype=float32),\n",
       " array([0.40305808], dtype=float32),\n",
       " array([0.41188273], dtype=float32),\n",
       " array([0.41337717], dtype=float32),\n",
       " array([0.40921617], dtype=float32),\n",
       " array([0.41165692], dtype=float32),\n",
       " array([0.4122084], dtype=float32),\n",
       " array([0.40265295], dtype=float32),\n",
       " array([0.40281412], dtype=float32),\n",
       " array([0.40170893], dtype=float32),\n",
       " array([0.40603444], dtype=float32),\n",
       " array([0.4131207], dtype=float32),\n",
       " array([0.40316245], dtype=float32),\n",
       " array([0.3976852], dtype=float32),\n",
       " array([0.38379404], dtype=float32),\n",
       " array([0.3946873], dtype=float32),\n",
       " array([0.3887777], dtype=float32),\n",
       " array([0.38872662], dtype=float32),\n",
       " array([0.40033135], dtype=float32),\n",
       " array([0.3854984], dtype=float32),\n",
       " array([0.392318], dtype=float32),\n",
       " array([0.37855962], dtype=float32),\n",
       " array([0.37703344], dtype=float32),\n",
       " array([0.3889604], dtype=float32),\n",
       " array([0.40443224], dtype=float32),\n",
       " array([0.40795666], dtype=float32),\n",
       " array([0.40108255], dtype=float32),\n",
       " array([0.38287947], dtype=float32),\n",
       " array([0.39871895], dtype=float32),\n",
       " array([0.41197917], dtype=float32),\n",
       " array([0.37639344], dtype=float32),\n",
       " array([0.39592642], dtype=float32),\n",
       " array([0.3887936], dtype=float32),\n",
       " array([0.39300904], dtype=float32),\n",
       " array([0.3889218], dtype=float32),\n",
       " array([0.39308167], dtype=float32),\n",
       " array([0.4024578], dtype=float32),\n",
       " array([0.39995348], dtype=float32),\n",
       " array([0.3993952], dtype=float32),\n",
       " array([0.38981253], dtype=float32),\n",
       " array([0.40605143], dtype=float32),\n",
       " array([0.4130651], dtype=float32),\n",
       " array([0.39701575], dtype=float32),\n",
       " array([0.408499], dtype=float32),\n",
       " array([0.41940364], dtype=float32),\n",
       " array([0.4122084], dtype=float32),\n",
       " array([0.37542328], dtype=float32),\n",
       " array([0.4064747], dtype=float32),\n",
       " array([0.4000624], dtype=float32),\n",
       " array([0.3734035], dtype=float32),\n",
       " array([0.3924689], dtype=float32),\n",
       " array([0.41424862], dtype=float32),\n",
       " array([0.39785087], dtype=float32),\n",
       " array([0.3840244], dtype=float32),\n",
       " array([0.41407275], dtype=float32),\n",
       " array([0.37223357], dtype=float32),\n",
       " array([0.3999263], dtype=float32),\n",
       " array([0.39352986], dtype=float32),\n",
       " array([0.387138], dtype=float32),\n",
       " array([0.39582542], dtype=float32),\n",
       " array([0.38240513], dtype=float32),\n",
       " array([0.40304783], dtype=float32),\n",
       " array([0.3991762], dtype=float32),\n",
       " array([0.39016774], dtype=float32),\n",
       " array([0.40533656], dtype=float32),\n",
       " array([0.3991047], dtype=float32),\n",
       " array([0.40323734], dtype=float32),\n",
       " array([0.3973482], dtype=float32),\n",
       " array([0.38626206], dtype=float32),\n",
       " array([0.38826597], dtype=float32),\n",
       " array([0.4018655], dtype=float32),\n",
       " array([0.40607527], dtype=float32),\n",
       " array([0.40436637], dtype=float32),\n",
       " array([0.41016138], dtype=float32),\n",
       " array([0.4016238], dtype=float32),\n",
       " array([0.40152508], dtype=float32),\n",
       " array([0.38325846], dtype=float32),\n",
       " array([0.39559618], dtype=float32),\n",
       " array([0.39539197], dtype=float32),\n",
       " array([0.39065], dtype=float32),\n",
       " array([0.38888663], dtype=float32),\n",
       " array([0.38657296], dtype=float32),\n",
       " array([0.39542598], dtype=float32),\n",
       " array([0.40037334], dtype=float32),\n",
       " array([0.39344934], dtype=float32),\n",
       " array([0.404405], dtype=float32),\n",
       " array([0.40926948], dtype=float32),\n",
       " array([0.38859048], dtype=float32),\n",
       " array([0.41327164], dtype=float32),\n",
       " array([0.4126623], dtype=float32),\n",
       " array([0.40830725], dtype=float32),\n",
       " array([0.39844775], dtype=float32),\n",
       " array([0.40002725], dtype=float32),\n",
       " array([0.4112859], dtype=float32),\n",
       " array([0.3922499], dtype=float32),\n",
       " array([0.3826888], dtype=float32),\n",
       " array([0.39250973], dtype=float32),\n",
       " array([0.3558279], dtype=float32),\n",
       " array([0.39768293], dtype=float32),\n",
       " array([0.38599992], dtype=float32),\n",
       " array([0.38891843], dtype=float32),\n",
       " array([0.40117332], dtype=float32),\n",
       " array([0.3763719], dtype=float32),\n",
       " array([0.35615698], dtype=float32),\n",
       " array([0.39564952], dtype=float32),\n",
       " array([0.40417576], dtype=float32),\n",
       " array([0.40189156], dtype=float32),\n",
       " array([0.40422568], dtype=float32),\n",
       " array([0.4120518], dtype=float32),\n",
       " array([0.40524122], dtype=float32),\n",
       " array([0.3991297], dtype=float32),\n",
       " array([0.39782816], dtype=float32),\n",
       " array([0.38691336], dtype=float32),\n",
       " array([0.39946556], dtype=float32),\n",
       " array([0.4113313], dtype=float32),\n",
       " array([0.37895563], dtype=float32),\n",
       " array([0.39090306], dtype=float32),\n",
       " array([0.40021446], dtype=float32),\n",
       " array([0.41534474], dtype=float32),\n",
       " array([0.4026428], dtype=float32),\n",
       " array([0.40408155], dtype=float32),\n",
       " array([0.39116514], dtype=float32),\n",
       " array([0.39879268], dtype=float32),\n",
       " array([0.39887327], dtype=float32),\n",
       " array([0.3928638], dtype=float32),\n",
       " array([0.39769995], dtype=float32),\n",
       " array([0.3951162], dtype=float32),\n",
       " array([0.40044028], dtype=float32),\n",
       " array([0.42165148], dtype=float32),\n",
       " array([0.39714283], dtype=float32),\n",
       " array([0.40896878], dtype=float32),\n",
       " array([0.39114016], dtype=float32),\n",
       " array([0.4186014], dtype=float32),\n",
       " array([0.40499502], dtype=float32),\n",
       " array([0.39393726], dtype=float32),\n",
       " array([0.3944762], dtype=float32),\n",
       " array([0.39360592], dtype=float32),\n",
       " array([0.4039681], dtype=float32),\n",
       " array([0.3972767], dtype=float32),\n",
       " array([0.39067042], dtype=float32),\n",
       " array([0.40682304], dtype=float32),\n",
       " array([0.40779096], dtype=float32),\n",
       " array([0.38538492], dtype=float32),\n",
       " array([0.39730167], dtype=float32),\n",
       " array([0.39832178], dtype=float32),\n",
       " array([0.40422687], dtype=float32),\n",
       " array([0.40995032], dtype=float32),\n",
       " array([0.40782616], dtype=float32),\n",
       " array([0.3981981], dtype=float32),\n",
       " array([0.37231413], dtype=float32),\n",
       " array([0.3849537], dtype=float32),\n",
       " array([0.37665102], dtype=float32),\n",
       " array([0.4006888], dtype=float32),\n",
       " array([0.40091684], dtype=float32),\n",
       " array([0.39046955], dtype=float32),\n",
       " array([0.40476015], dtype=float32),\n",
       " array([0.40959287], dtype=float32),\n",
       " array([0.39485523], dtype=float32),\n",
       " array([0.40786928], dtype=float32),\n",
       " array([0.4037775], dtype=float32),\n",
       " array([0.40312958], dtype=float32),\n",
       " array([0.39457268], dtype=float32),\n",
       " array([0.39748096], dtype=float32),\n",
       " array([0.3986735], dtype=float32),\n",
       " array([0.40077278], dtype=float32),\n",
       " array([0.38937682], dtype=float32),\n",
       " array([0.39702478], dtype=float32),\n",
       " array([0.37346363], dtype=float32),\n",
       " array([0.39757857], dtype=float32),\n",
       " array([0.39905027], dtype=float32),\n",
       " array([0.37596452], dtype=float32),\n",
       " array([0.39099833], dtype=float32),\n",
       " array([0.39116287], dtype=float32),\n",
       " array([0.39564952], dtype=float32),\n",
       " array([0.38094366], dtype=float32),\n",
       " array([0.38306785], dtype=float32),\n",
       " array([0.40495306], dtype=float32),\n",
       " array([0.38356823], dtype=float32),\n",
       " array([0.40565658], dtype=float32),\n",
       " array([0.40663242], dtype=float32),\n",
       " array([0.40612292], dtype=float32),\n",
       " array([0.39626116], dtype=float32),\n",
       " array([0.40303648], dtype=float32),\n",
       " array([0.39772266], dtype=float32),\n",
       " array([0.39442062], dtype=float32),\n",
       " array([0.3606039], dtype=float32),\n",
       " array([0.40636465], dtype=float32),\n",
       " array([0.4106754], dtype=float32),\n",
       " array([0.39153507], dtype=float32),\n",
       " array([0.40097135], dtype=float32),\n",
       " array([0.3605086], dtype=float32),\n",
       " array([0.40456608], dtype=float32),\n",
       " array([0.37296093], dtype=float32),\n",
       " array([0.39579138], dtype=float32),\n",
       " array([0.41610724], dtype=float32),\n",
       " array([0.40446627], dtype=float32),\n",
       " array([0.39726874], dtype=float32),\n",
       " array([0.39506516], dtype=float32),\n",
       " array([0.40915832], dtype=float32),\n",
       " array([0.41160586], dtype=float32),\n",
       " array([0.41412833], dtype=float32),\n",
       " array([0.40089986], dtype=float32),\n",
       " array([0.40173504], dtype=float32),\n",
       " array([0.39633718], dtype=float32),\n",
       " array([0.39092574], dtype=float32),\n",
       " array([0.40888938], dtype=float32),\n",
       " array([0.41467187], dtype=float32),\n",
       " array([0.3937205], dtype=float32),\n",
       " array([0.388814], dtype=float32),\n",
       " array([0.38739336], dtype=float32),\n",
       " array([0.38478693], dtype=float32),\n",
       " array([0.38005745], dtype=float32),\n",
       " array([0.4159677], dtype=float32),\n",
       " array([0.39338353], dtype=float32),\n",
       " array([0.40617624], dtype=float32),\n",
       " array([0.4003132], dtype=float32),\n",
       " array([0.39150783], dtype=float32),\n",
       " array([0.3905456], dtype=float32),\n",
       " array([0.39800745], dtype=float32),\n",
       " array([0.4020754], dtype=float32),\n",
       " array([0.40957928], dtype=float32),\n",
       " array([0.40650535], dtype=float32),\n",
       " array([0.40043804], dtype=float32),\n",
       " array([0.40506652], dtype=float32),\n",
       " array([0.39998072], dtype=float32),\n",
       " array([0.38876635], dtype=float32),\n",
       " array([0.40013504], dtype=float32),\n",
       " array([0.4066869], dtype=float32),\n",
       " array([0.37821692], dtype=float32),\n",
       " array([0.4010485], dtype=float32),\n",
       " array([0.37316516], dtype=float32),\n",
       " array([0.40899262], dtype=float32),\n",
       " array([0.4061252], dtype=float32),\n",
       " array([0.4105154], dtype=float32),\n",
       " array([0.40562817], dtype=float32),\n",
       " array([0.40925243], dtype=float32),\n",
       " array([0.4210909], dtype=float32),\n",
       " array([0.4006797], dtype=float32),\n",
       " array([0.4108887], dtype=float32),\n",
       " array([0.3984341], dtype=float32),\n",
       " array([0.38207835], dtype=float32),\n",
       " array([0.3761438], dtype=float32),\n",
       " array([0.38432848], dtype=float32),\n",
       " array([0.40713507], dtype=float32),\n",
       " array([0.41087624], dtype=float32),\n",
       " array([0.41408747], dtype=float32),\n",
       " array([0.4007217], dtype=float32),\n",
       " array([0.4094896], dtype=float32),\n",
       " array([0.39506856], dtype=float32),\n",
       " array([0.39630768], dtype=float32),\n",
       " array([0.37678263], dtype=float32),\n",
       " array([0.38480166], dtype=float32),\n",
       " array([0.39472362], dtype=float32),\n",
       " array([0.39642906], dtype=float32),\n",
       " array([0.39225787], dtype=float32),\n",
       " array([0.4122515], dtype=float32),\n",
       " array([0.41030544], dtype=float32),\n",
       " array([0.3611724], dtype=float32),\n",
       " array([0.40331227], dtype=float32),\n",
       " array([0.40969956], dtype=float32),\n",
       " array([0.40915373], dtype=float32),\n",
       " array([0.38846567], dtype=float32),\n",
       " array([0.39388734], dtype=float32),\n",
       " array([0.39246666], dtype=float32),\n",
       " array([0.4129732], dtype=float32),\n",
       " array([0.38275123], dtype=float32),\n",
       " array([0.40159658], dtype=float32),\n",
       " array([0.39696354], dtype=float32),\n",
       " array([0.40241694], dtype=float32),\n",
       " array([0.39473835], dtype=float32),\n",
       " array([0.38070425], dtype=float32),\n",
       " array([0.40279368], dtype=float32),\n",
       " array([0.4062035], dtype=float32),\n",
       " array([0.40307167], dtype=float32),\n",
       " array([0.4021662], dtype=float32),\n",
       " array([0.40218318], dtype=float32),\n",
       " array([0.41336808], dtype=float32),\n",
       " array([0.41273716], dtype=float32),\n",
       " array([0.37308577], dtype=float32),\n",
       " array([0.38840556], dtype=float32),\n",
       " array([0.37784818], dtype=float32),\n",
       " array([0.40631923], dtype=float32),\n",
       " array([0.3932076], dtype=float32),\n",
       " array([0.39914897], dtype=float32),\n",
       " array([0.3895243], dtype=float32),\n",
       " array([0.3812988], dtype=float32),\n",
       " array([0.39576754], dtype=float32),\n",
       " array([0.40473288], dtype=float32),\n",
       " array([0.40633625], dtype=float32),\n",
       " array([0.39939407], dtype=float32),\n",
       " array([0.40397036], dtype=float32),\n",
       " array([0.41921636], dtype=float32),\n",
       " array([0.40325207], dtype=float32),\n",
       " array([0.38745236], dtype=float32),\n",
       " array([0.38473812], dtype=float32),\n",
       " array([0.4038966], dtype=float32),\n",
       " array([0.40963256], dtype=float32),\n",
       " array([0.39187658], dtype=float32),\n",
       " array([0.4216946], dtype=float32),\n",
       " array([0.40558964], dtype=float32),\n",
       " array([0.41386735], dtype=float32),\n",
       " array([0.38404825], dtype=float32),\n",
       " array([0.41906095], dtype=float32),\n",
       " array([0.4172987], dtype=float32),\n",
       " array([0.39192995], dtype=float32),\n",
       " array([0.40833107], dtype=float32),\n",
       " array([0.39346406], dtype=float32),\n",
       " array([0.39777142], dtype=float32),\n",
       " array([0.4002349], dtype=float32),\n",
       " array([0.3770845], dtype=float32),\n",
       " array([0.4079101], dtype=float32),\n",
       " array([0.3947474], dtype=float32),\n",
       " array([0.3837021], dtype=float32),\n",
       " array([0.40623528], dtype=float32),\n",
       " array([0.3960092], dtype=float32),\n",
       " array([0.40815407], dtype=float32),\n",
       " array([0.3988449], dtype=float32),\n",
       " array([0.40066952], dtype=float32),\n",
       " array([0.4039125], dtype=float32),\n",
       " array([0.39989337], dtype=float32),\n",
       " array([0.4083969], dtype=float32),\n",
       " array([0.3929194], dtype=float32),\n",
       " array([0.37149602], dtype=float32),\n",
       " array([0.38872322], dtype=float32),\n",
       " array([0.40580067], dtype=float32),\n",
       " array([0.4123366], dtype=float32),\n",
       " array([0.39798588], dtype=float32),\n",
       " array([0.38553357], dtype=float32),\n",
       " array([0.38057482], dtype=float32),\n",
       " array([0.3970021], dtype=float32),\n",
       " array([0.4031863], dtype=float32),\n",
       " array([0.395746], dtype=float32),\n",
       " array([0.39491308], dtype=float32),\n",
       " array([0.38397902], dtype=float32),\n",
       " array([0.3887573], dtype=float32),\n",
       " array([0.40458086], dtype=float32),\n",
       " array([0.3980449], dtype=float32),\n",
       " array([0.39978898], dtype=float32),\n",
       " array([0.39240652], dtype=float32),\n",
       " array([0.40687296], dtype=float32),\n",
       " array([0.40767747], dtype=float32),\n",
       " array([0.39939523], dtype=float32),\n",
       " array([0.37577388], dtype=float32),\n",
       " array([0.3823473], dtype=float32),\n",
       " array([0.37919164], dtype=float32),\n",
       " array([0.42427945], dtype=float32),\n",
       " array([0.41672114], dtype=float32),\n",
       " array([0.4081552], dtype=float32),\n",
       " array([0.40972906], dtype=float32),\n",
       " array([0.3832596], dtype=float32),\n",
       " array([0.3953772], dtype=float32),\n",
       " array([0.39994553], dtype=float32),\n",
       " array([0.37965235], dtype=float32),\n",
       " array([0.38529414], dtype=float32),\n",
       " array([0.4009055], dtype=float32),\n",
       " array([0.40811774], dtype=float32),\n",
       " array([0.39443538], dtype=float32),\n",
       " array([0.4150577], dtype=float32),\n",
       " array([0.41779003], dtype=float32),\n",
       " array([0.40160903], dtype=float32),\n",
       " array([0.4042643], dtype=float32),\n",
       " array([0.3916678], dtype=float32),\n",
       " array([0.40335992], dtype=float32),\n",
       " array([0.395224], dtype=float32),\n",
       " array([0.3949585], dtype=float32),\n",
       " array([0.39082813], dtype=float32),\n",
       " array([0.4062092], dtype=float32),\n",
       " array([0.3968546], dtype=float32),\n",
       " array([0.3951548], dtype=float32),\n",
       " array([0.41805217], dtype=float32),\n",
       " array([0.39890954], dtype=float32),\n",
       " array([0.40240446], dtype=float32),\n",
       " array([0.39817652], dtype=float32),\n",
       " array([0.40806326], dtype=float32),\n",
       " array([0.38745123], dtype=float32),\n",
       " array([0.39230213], dtype=float32),\n",
       " array([0.40674818], dtype=float32),\n",
       " array([0.40683782], dtype=float32),\n",
       " array([0.3965301], dtype=float32),\n",
       " array([0.37600765], dtype=float32),\n",
       " array([0.38409927], dtype=float32),\n",
       " array([0.3674235], dtype=float32),\n",
       " array([0.41228217], dtype=float32),\n",
       " array([0.39686254], dtype=float32),\n",
       " array([0.40657452], dtype=float32),\n",
       " array([0.37736702], dtype=float32),\n",
       " array([0.3959854], dtype=float32),\n",
       " array([0.39348677], dtype=float32),\n",
       " array([0.39235434], dtype=float32),\n",
       " array([0.39488587], dtype=float32),\n",
       " array([0.39058647], dtype=float32),\n",
       " array([0.38403574], dtype=float32),\n",
       " array([0.4007126], dtype=float32),\n",
       " array([0.39946783], dtype=float32),\n",
       " array([0.38444993], dtype=float32),\n",
       " array([0.4032328], dtype=float32),\n",
       " array([0.3853486], dtype=float32),\n",
       " array([0.40889618], dtype=float32),\n",
       " array([0.39796433], dtype=float32),\n",
       " array([0.4041474], dtype=float32),\n",
       " array([0.41178742], dtype=float32),\n",
       " array([0.39432418], dtype=float32),\n",
       " array([0.41187024], dtype=float32),\n",
       " array([0.41204503], dtype=float32),\n",
       " array([0.4140228], dtype=float32),\n",
       " array([0.42152894], dtype=float32),\n",
       " array([0.41179082], dtype=float32),\n",
       " array([0.41229233], dtype=float32),\n",
       " array([0.39489493], dtype=float32),\n",
       " array([0.4059686], dtype=float32),\n",
       " array([0.38386324], dtype=float32),\n",
       " array([0.38568333], dtype=float32),\n",
       " array([0.40704998], dtype=float32),\n",
       " array([0.40329862], dtype=float32),\n",
       " array([0.39434123], dtype=float32),\n",
       " array([0.41128364], dtype=float32),\n",
       " array([0.408684], dtype=float32),\n",
       " array([0.40169755], dtype=float32),\n",
       " array([0.40111202], dtype=float32),\n",
       " array([0.3866331], dtype=float32),\n",
       " array([0.38126704], dtype=float32),\n",
       " array([0.4107151], dtype=float32),\n",
       " array([0.39515254], dtype=float32),\n",
       " array([0.38667622], dtype=float32),\n",
       " array([0.38320062], dtype=float32),\n",
       " array([0.40053788], dtype=float32),\n",
       " array([0.38614973], dtype=float32),\n",
       " array([0.40804857], dtype=float32),\n",
       " array([0.41956136], dtype=float32),\n",
       " array([0.38812184], dtype=float32),\n",
       " array([0.4024669], dtype=float32),\n",
       " array([0.38602263], dtype=float32),\n",
       " array([0.39060912], dtype=float32),\n",
       " array([0.39930782], dtype=float32),\n",
       " array([0.39016774], dtype=float32),\n",
       " array([0.42224833], dtype=float32),\n",
       " array([0.3960444], dtype=float32),\n",
       " array([0.4195625], dtype=float32),\n",
       " array([0.43312454], dtype=float32),\n",
       " array([0.42829862], dtype=float32),\n",
       " array([0.39883238], dtype=float32),\n",
       " array([0.39722225], dtype=float32),\n",
       " array([0.39979464], dtype=float32),\n",
       " array([0.38353533], dtype=float32),\n",
       " array([0.42571375], dtype=float32),\n",
       " array([0.39532724], dtype=float32),\n",
       " array([0.4075924], dtype=float32),\n",
       " array([0.4046705], dtype=float32),\n",
       " array([0.38251412], dtype=float32),\n",
       " array([0.39971974], dtype=float32),\n",
       " array([0.39981735], dtype=float32),\n",
       " array([0.39451253], dtype=float32),\n",
       " array([0.40730873], dtype=float32),\n",
       " array([0.398534], dtype=float32),\n",
       " array([0.38597044], dtype=float32),\n",
       " array([0.3998661], dtype=float32),\n",
       " array([0.39842504], dtype=float32),\n",
       " array([0.41824958], dtype=float32),\n",
       " array([0.40345523], dtype=float32),\n",
       " array([0.39962104], dtype=float32),\n",
       " array([0.40425858], dtype=float32),\n",
       " array([0.401255], dtype=float32),\n",
       " array([0.41307873], dtype=float32),\n",
       " array([0.38555968], dtype=float32),\n",
       " array([0.37565476], dtype=float32),\n",
       " array([0.3936672], dtype=float32),\n",
       " array([0.39674], dtype=float32),\n",
       " array([0.41506332], dtype=float32),\n",
       " array([0.4028856], dtype=float32),\n",
       " array([0.38511145], dtype=float32),\n",
       " array([0.39487112], dtype=float32),\n",
       " array([0.40697056], dtype=float32),\n",
       " array([0.39258358], dtype=float32),\n",
       " array([0.38240057], dtype=float32),\n",
       " array([0.39301586], dtype=float32),\n",
       " array([0.39704296], dtype=float32),\n",
       " array([0.39375], dtype=float32),\n",
       " array([0.40463984], dtype=float32),\n",
       " array([0.3848312], dtype=float32),\n",
       " array([0.39935437], dtype=float32),\n",
       " array([0.34947014], dtype=float32),\n",
       " array([0.40339166], dtype=float32),\n",
       " array([0.38923156], dtype=float32),\n",
       " array([0.38858598], dtype=float32),\n",
       " array([0.4016215], dtype=float32),\n",
       " array([0.39337215], dtype=float32),\n",
       " array([0.40789533], dtype=float32),\n",
       " array([0.40229326], dtype=float32),\n",
       " array([0.40278003], dtype=float32),\n",
       " array([0.39777032], dtype=float32),\n",
       " array([0.4013231], dtype=float32),\n",
       " array([0.39056262], dtype=float32),\n",
       " array([0.39676154], dtype=float32),\n",
       " array([0.40153527], dtype=float32),\n",
       " array([0.40474764], dtype=float32),\n",
       " array([0.4070307], dtype=float32),\n",
       " array([0.37015706], dtype=float32),\n",
       " array([0.38612816], dtype=float32),\n",
       " array([0.40237385], dtype=float32),\n",
       " array([0.38020268], dtype=float32),\n",
       " array([0.40422568], dtype=float32),\n",
       " array([0.40756288], dtype=float32),\n",
       " array([0.39970613], dtype=float32),\n",
       " array([0.40726784], dtype=float32),\n",
       " array([0.39316678], dtype=float32),\n",
       " array([0.42314476], dtype=float32),\n",
       " array([0.4097688], dtype=float32),\n",
       " array([0.3922987], dtype=float32),\n",
       " array([0.39730963], dtype=float32),\n",
       " array([0.40088055], dtype=float32),\n",
       " array([0.40800995], dtype=float32),\n",
       " array([0.41821557], dtype=float32),\n",
       " array([0.3997515], dtype=float32),\n",
       " array([0.39111182], dtype=float32),\n",
       " array([0.4010678], dtype=float32),\n",
       " array([0.39405414], dtype=float32),\n",
       " ...]"
      ]
     },
     "execution_count": 10,
     "metadata": {},
     "output_type": "execute_result"
    }
   ],
   "source": [
    "[np.mean(sem.numpy(), axis=(1,2)) for path, sem, depth in simul_ds]"
   ]
  },
  {
   "cell_type": "code",
   "execution_count": 13,
   "metadata": {},
   "outputs": [],
   "source": [
    "def get_mean_std(dataset):\n",
    "  mean_per_img = [np.mean(image.numpy(), axis=(1,2)) for _,image,_ in dataset]\n",
    "  std_per_img = [np.std(image.numpy(), axis=(1,2)) for _,image,_ in dataset]\n",
    "\n",
    "  mean = np.mean([m[0] for m in mean_per_img])\n",
    "  std = np.mean([s[0] for s in std_per_img])\n",
    "\n",
    "  print(mean)\n",
    "  print(std)"
   ]
  },
  {
   "cell_type": "code",
   "execution_count": 14,
   "metadata": {},
   "outputs": [
    {
     "name": "stdout",
     "output_type": "stream",
     "text": [
      "0.3920241\n",
      "0.22617114\n"
     ]
    }
   ],
   "source": [
    "get_mean_std(simul_ds)"
   ]
  },
  {
   "cell_type": "markdown",
   "metadata": {},
   "source": [
    "## transform"
   ]
  },
  {
   "cell_type": "code",
   "execution_count": 119,
   "metadata": {},
   "outputs": [],
   "source": [
    "from src.datasets.transform import get_transform"
   ]
  },
  {
   "cell_type": "code",
   "execution_count": 124,
   "metadata": {},
   "outputs": [
    {
     "data": {
      "text/plain": [
       "173304"
      ]
     },
     "execution_count": 124,
     "metadata": {},
     "output_type": "execute_result"
    }
   ],
   "source": [
    "transform = get_transform([96, 64])\n",
    "simul_ds = SEMDataset(simulation_sem_paths, simulation_depth_paths, transform)\n",
    "len(simul_ds)"
   ]
  },
  {
   "cell_type": "code",
   "execution_count": 161,
   "metadata": {},
   "outputs": [
    {
     "data": {
      "text/plain": [
       "array([138., 140., 120., 124., 134., 119., 147., 112., 138., 111., 129.,\n",
       "       140., 126., 136., 134., 153., 147., 169., 152., 155., 142., 138.,\n",
       "       163., 146., 132., 162., 128., 139., 146., 155., 135., 143., 127.,\n",
       "       104., 138., 136., 122., 137., 115., 118., 135., 117., 129., 136.,\n",
       "       153., 130., 122., 108.])"
      ]
     },
     "execution_count": 161,
     "metadata": {},
     "output_type": "execute_result"
    }
   ],
   "source": [
    "sem_img = cv2.imread(simulation_sem_paths[0], cv2.IMREAD_GRAYSCALE) / 255.\n",
    "sem_img[0] * 255"
   ]
  },
  {
   "cell_type": "code",
   "execution_count": 167,
   "metadata": {},
   "outputs": [
    {
     "data": {
      "text/plain": [
       "tensor([138., 140., 120., 124., 134., 119., 147., 112., 138., 111., 129., 140.,\n",
       "        126., 136., 134., 153., 147., 169., 152., 155., 142., 138., 163., 146.,\n",
       "        132., 162., 128., 139., 146., 155., 135., 143., 127., 104., 138., 136.,\n",
       "        122., 137., 115., 118., 135., 117., 129., 136., 153., 130., 122., 108.])"
      ]
     },
     "execution_count": 167,
     "metadata": {},
     "output_type": "execute_result"
    }
   ],
   "source": [
    "from albumentations.pytorch import ToTensorV2\n",
    "sem_tensor = ToTensorV2()(image=sem_img)['image']\n",
    "sem_tensor[0][0].float() * 255"
   ]
  },
  {
   "cell_type": "code",
   "execution_count": null,
   "metadata": {},
   "outputs": [],
   "source": [
    "norm_transform = A.Compose([\n",
    "        A.Normalize(mean=[0.5],std=[0.5]),\n",
    "        ToTensorV2()\n",
    "    ])\n",
    "sem_norm = "
   ]
  },
  {
   "cell_type": "code",
   "execution_count": 137,
   "metadata": {},
   "outputs": [
    {
     "data": {
      "text/plain": [
       "tensor([[[0.5412, 0.5461, 0.5196,  ..., 0.4902, 0.4578, 0.4235],\n",
       "         [0.5069, 0.5271, 0.5043,  ..., 0.4828, 0.4836, 0.5044],\n",
       "         [0.4951, 0.5126, 0.5036,  ..., 0.4775, 0.4920, 0.5441],\n",
       "         ...,\n",
       "         [0.5127, 0.5036, 0.5091,  ..., 0.4930, 0.4740, 0.4569],\n",
       "         [0.5436, 0.5032, 0.4977,  ..., 0.5012, 0.4790, 0.4701],\n",
       "         [0.6000, 0.5412, 0.5118,  ..., 0.4828, 0.4799, 0.5216]]])"
      ]
     },
     "execution_count": 137,
     "metadata": {},
     "output_type": "execute_result"
    }
   ],
   "source": [
    "simul_ds[0][1]"
   ]
  }
 ],
 "metadata": {
  "kernelspec": {
   "display_name": "Python 3.8.8 ('torch18')",
   "language": "python",
   "name": "python3"
  },
  "language_info": {
   "codemirror_mode": {
    "name": "ipython",
    "version": 3
   },
   "file_extension": ".py",
   "mimetype": "text/x-python",
   "name": "python",
   "nbconvert_exporter": "python",
   "pygments_lexer": "ipython3",
   "version": "3.8.8"
  },
  "orig_nbformat": 4,
  "vscode": {
   "interpreter": {
    "hash": "98f3181f4900a3173dff2251935f87d1f345563f3a07cb125f858d750ad52894"
   }
  }
 },
 "nbformat": 4,
 "nbformat_minor": 2
}
