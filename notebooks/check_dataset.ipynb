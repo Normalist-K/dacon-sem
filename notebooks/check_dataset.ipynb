{
 "cells": [
  {
   "cell_type": "code",
   "execution_count": 1,
   "metadata": {},
   "outputs": [],
   "source": [
    "import os\n",
    "from glob import glob\n",
    "\n",
    "import cv2\n",
    "import numpy as np\n",
    "import matplotlib.pyplot as plt\n",
    "import albumentations as A\n",
    "from albumentations.pytorch import ToTensorV2\n",
    "from sklearn.model_selection import StratifiedKFold\n",
    "\n",
    "\n",
    "import sys\n",
    "# sys.path.append('/root/dacon-epitope/dacon-sem')\n",
    "sys.path.append('/home/youngkim21/dacon/dacon-sem/')\n",
    "\n",
    "from src.datasets.sem_dataset import SEMDataset\n",
    "from src.datasets.sem_datamodule import SEMDataModule"
   ]
  },
  {
   "cell_type": "code",
   "execution_count": 3,
   "metadata": {},
   "outputs": [],
   "source": [
    "# data_path = os.path.abspath('/shared/Samsung/')\n",
    "data_path = os.path.abspath('/home/youngkim21/dacon/sem-data/')\n",
    "simulation_sem_paths = os.path.join(data_path, 'simulation_data', 'SEM', '*', '*', '*.png')\n",
    "simulation_sem_paths = np.array(sorted(glob(simulation_sem_paths)))\n",
    "simulation_depth_paths = os.path.join(data_path, 'simulation_data', 'Depth', '*', '*', '*.png')\n",
    "simulation_depth_paths = np.array(sorted(glob(simulation_depth_paths) + glob(simulation_depth_paths)))\n",
    "data_len = len(simulation_sem_paths)\n",
    "\n",
    "skf = StratifiedKFold(n_splits=5, random_state=42, shuffle=True)\n",
    "splitlist = list(skf.split(range(data_len),[0]*data_len))\n",
    "\n",
    "train_index = splitlist[0][0]\n",
    "valid_index = splitlist[0][1]\n",
    "\n",
    "simulation_train_sem_paths = simulation_sem_paths[train_index]\n",
    "simulation_train_depth_paths = simulation_depth_paths[train_index]\n",
    "\n",
    "simulation_valid_sem_paths = simulation_sem_paths[valid_index]\n",
    "simulation_valid_depth_paths = simulation_depth_paths[valid_index]\n",
    "\n",
    "train_sem_paths = os.path.join(data_path, 'train', 'SEM', '*', '*', '*.png')\n",
    "train_sem_paths = np.array(sorted(glob(train_sem_paths)))\n",
    "train_data_len = len(train_sem_paths)\n",
    "\n",
    "test_sem_paths = os.path.join(data_path, 'test', 'SEM', '*.png')\n",
    "test_sem_paths = np.array(sorted(glob(test_sem_paths)))\n",
    "test_data_len = len(test_sem_paths)\n",
    "\n",
    "test_sem_paths = os.path.join(data_path, 'test', 'SEM', '*.png')\n",
    "test_sem_paths = np.array(sorted(glob(test_sem_paths)))"
   ]
  },
  {
   "cell_type": "code",
   "execution_count": 8,
   "metadata": {},
   "outputs": [
    {
     "data": {
      "text/plain": [
       "'/home/youngkim21/dacon/sem-data/simulation_data/SEM/Case_1/80/20201001_202940_NE142400C_RAE01_1_S01_M0005-01MS_3_itr1.png'"
      ]
     },
     "execution_count": 8,
     "metadata": {},
     "output_type": "execute_result"
    }
   ],
   "source": [
    "simulation_sem_paths[1]"
   ]
  },
  {
   "cell_type": "code",
   "execution_count": 7,
   "metadata": {},
   "outputs": [
    {
     "data": {
      "text/plain": [
       "'Depth_110'"
      ]
     },
     "execution_count": 7,
     "metadata": {},
     "output_type": "execute_result"
    }
   ],
   "source": [
    "train_sem_paths[1].split('/')[-3]"
   ]
  },
  {
   "cell_type": "code",
   "execution_count": 10,
   "metadata": {},
   "outputs": [
    {
     "data": {
      "text/plain": [
       "60664"
      ]
     },
     "execution_count": 10,
     "metadata": {},
     "output_type": "execute_result"
    }
   ],
   "source": [
    "train_data_len = len(train_sem_paths)\n",
    "train_data_len"
   ]
  },
  {
   "cell_type": "code",
   "execution_count": 11,
   "metadata": {},
   "outputs": [
    {
     "data": {
      "text/plain": [
       "3"
      ]
     },
     "execution_count": 11,
     "metadata": {},
     "output_type": "execute_result"
    }
   ],
   "source": [
    "idx = 200000\n",
    "idx // train_data_len"
   ]
  },
  {
   "cell_type": "code",
   "execution_count": null,
   "metadata": {},
   "outputs": [],
   "source": [
    "idx - ((idx // train_data_len) * train_data_len)"
   ]
  }
 ],
 "metadata": {
  "kernelspec": {
   "display_name": "Python 3.8.8 ('torch18')",
   "language": "python",
   "name": "python3"
  },
  "language_info": {
   "codemirror_mode": {
    "name": "ipython",
    "version": 3
   },
   "file_extension": ".py",
   "mimetype": "text/x-python",
   "name": "python",
   "nbconvert_exporter": "python",
   "pygments_lexer": "ipython3",
   "version": "3.8.8"
  },
  "orig_nbformat": 4,
  "vscode": {
   "interpreter": {
    "hash": "4929e1b14f0ed32f4601b83e328fc410fa396d217a4f3e5ddf4253c0166a9517"
   }
  }
 },
 "nbformat": 4,
 "nbformat_minor": 2
}
