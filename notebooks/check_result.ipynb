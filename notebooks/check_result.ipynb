{
 "cells": [
  {
   "cell_type": "code",
   "execution_count": 1,
   "metadata": {},
   "outputs": [],
   "source": [
    "import os\n",
    "from glob import glob\n",
    "from tqdm import tqdm\n",
    "\n",
    "import cv2\n",
    "import numpy as np\n",
    "import pandas as pd\n",
    "import matplotlib.pyplot as plt\n",
    "import albumentations as A\n",
    "from albumentations.pytorch import ToTensorV2\n",
    "\n",
    "import sys\n",
    "sys.path.append('/home/youngkim21/dacon/dacon-sem')\n",
    "from src.datasets.sem_dataset import SEMDataset\n",
    "from src.datasets.sem_datamodule import SEMDataModule"
   ]
  },
  {
   "cell_type": "code",
   "execution_count": 2,
   "metadata": {},
   "outputs": [
    {
     "name": "stdout",
     "output_type": "stream",
     "text": [
      "[43326, 43326, 43326, 43326]\n",
      "[21663, 21663, 21663, 21663]\n",
      "[15166, 15166, 15166, 15166]\n"
     ]
    }
   ],
   "source": [
    "# data_path = os.path.abspath('/shared/Samsung/')\n",
    "data_path = os.path.abspath('/home/youngkim21/dacon/sem-data')\n",
    "simulation_sem_paths = os.path.join(data_path, 'simulation_data', 'SEM', '*', '*', '*.png')\n",
    "simulation_sem_paths = np.array(sorted(glob(simulation_sem_paths)))\n",
    "simulation_depth_paths = os.path.join(data_path, 'simulation_data', 'Depth', '*', '*', '*.png')\n",
    "simulation_depth_paths = np.array(sorted(glob(simulation_depth_paths) + glob(simulation_depth_paths)))\n",
    "simulation_data_len = len(simulation_sem_paths)\n",
    "\n",
    "train_sem_paths = os.path.join(data_path, 'train', 'SEM', '*', '*', '*.png')\n",
    "train_sem_paths = np.array(sorted(glob(train_sem_paths)))\n",
    "train_data_len = len(train_sem_paths)\n",
    "\n",
    "test_sem_paths = os.path.join(data_path, 'test', 'SEM', '*.png')\n",
    "test_sem_paths = np.array(sorted(glob(test_sem_paths)))\n",
    "test_data_len = len(test_sem_paths)\n",
    "\n",
    "case_list = ['Case_1', 'Case_2', 'Case_3', 'Case_4']\n",
    "\n",
    "simulation_sem_by_case = []\n",
    "for case in case_list:\n",
    "    t_path = os.path.join(data_path, 'simulation_data', 'SEM', case, '*', '*.png')\n",
    "    t_path = np.array(sorted(glob(t_path)))\n",
    "    simulation_sem_by_case.append(t_path)\n",
    "\n",
    "simulation_depth_by_case = []\n",
    "for case in case_list:\n",
    "    t_path = os.path.join(data_path, 'simulation_data', 'Depth', case, '*', '*.png')\n",
    "    t_path = np.array(sorted(glob(t_path)))\n",
    "    simulation_depth_by_case.append(t_path)\n",
    "\n",
    "depth_list = ['Depth_110', 'Depth_120', 'Depth_130', 'Depth_140']\n",
    "\n",
    "train_sem_by_depth = []\n",
    "for depth in depth_list:\n",
    "    t_path = os.path.join(data_path, 'train', 'SEM', depth, '*', '*.png')\n",
    "    t_path = np.array(sorted(glob(t_path)))\n",
    "    train_sem_by_depth.append(t_path)\n",
    "\n",
    "# train_average_depth = pd.read_csv('/shared/Samsung/train/average_depth.csv')\n",
    "train_average_depth = pd.read_csv('/home/youngkim21/dacon/sem-data/train/average_depth.csv')\n",
    "\n",
    "print([len(t_path) for t_path in simulation_sem_by_case])\n",
    "print([len(t_path) for t_path in simulation_depth_by_case])\n",
    "print([len(t_path) for t_path in train_sem_by_depth])"
   ]
  },
  {
   "cell_type": "code",
   "execution_count": 3,
   "metadata": {},
   "outputs": [],
   "source": [
    "def draw_line_by_row(paths, save_dir_name, file_name='heatmap.png'):\n",
    "\n",
    "    from matplotlib import cm\n",
    "    from matplotlib.colors import ListedColormap, BoundaryNorm\n",
    "\n",
    "    if(type(paths) is str):\n",
    "        paths = sorted(glob(paths))\n",
    "    \n",
    "    pixel_tables=np.zeros((72,48,len(paths)),dtype=np.uint8)\n",
    "    \n",
    "    for i in range(0,len(paths)):\n",
    "        img = cv2.imread(paths[i], cv2.IMREAD_GRAYSCALE)\n",
    "        pixel_tables[:,:,i] = img.copy()\n",
    "    \n",
    "    \n",
    "    heat_map = np.zeros((256,48,72))\n",
    "    for i in range(0,pixel_tables.shape[0]):\n",
    "        for j in range(0,pixel_tables.shape[1]):\n",
    "            t_unique, t_counts = np.unique(pixel_tables[i,j,:],return_counts=True)\n",
    "            for t_height,t_value in zip(t_unique,t_counts):\n",
    "                heat_map[t_height,j,i]=t_value\n",
    "    \n",
    "    bounds = np.append(1,np.arange(1000,30001,2000))\n",
    "    jet = cm.get_cmap('jet', 256)\n",
    "    newcolors = jet(np.linspace(0, 1, 256))\n",
    "    black = np.array([0/256, 0/256, 0/256, 1])\n",
    "    #newcolors[:1, :] = black #colorbar customize\n",
    "    newcmp = ListedColormap(newcolors)\n",
    "    newcmp.set_over(newcolors[-1])\n",
    "    newcmp.set_under(black)\n",
    "    norm = BoundaryNorm(bounds, newcmp.N)\n",
    "    \n",
    "    fig=plt.figure(figsize=(34,20),constrained_layout=True,)\n",
    "    \n",
    "    subplot = fig.subplots(nrows=3, ncols=24)\n",
    "    \n",
    "    #plt.subplots_adjust(left=0.05,right=1,top=1,bottom=0.2,wspace=0.3,hspace=0.1)\n",
    "    \n",
    "    i=0\n",
    "    for ax in subplot.flat:\n",
    "        im_heatmap = ax.pcolor(heat_map[:,:,i],cmap=newcmp,#edgecolors='black',\n",
    "                               vmin=0,vmax=heat_map.max(),norm=norm)\n",
    "        i += 1\n",
    "    \n",
    "    plt.tight_layout()\n",
    "    plt.subplots_adjust(bottom=0.1)\n",
    "    cb_ax=fig.add_axes([0.25,0.025,0.5,0.05])  ##<= (left,bottom,width,height)\n",
    "    plt.colorbar(im_heatmap,cax=cb_ax,orientation='horizontal',pad=0.02,ticks=bounds,extend='both',norm=norm)\n",
    "    \n",
    "    os.makedirs(save_dir_name, exist_ok=True)\n",
    "    heat_img_file_path = os.path.join(save_dir_name,file_name)\n",
    "    plt.savefig(heat_img_file_path,dpi=fig.dpi)\n",
    "    \n",
    "    plt.cla()\n",
    "    plt.clf()\n",
    "    plt.close()\n"
   ]
  },
  {
   "cell_type": "code",
   "execution_count": 14,
   "metadata": {},
   "outputs": [
    {
     "name": "stderr",
     "output_type": "stream",
     "text": [
      "/tmp/ipykernel_32940/3504350193.py:41: MatplotlibDeprecationWarning: Passing parameters norm and vmin/vmax simultaneously is deprecated since 3.3 and will become an error two minor releases later. Please pass vmin/vmax directly to the norm when creating it.\n",
      "  im_heatmap = ax.pcolor(heat_map[:,:,i],cmap=newcmp,#edgecolors='black',\n",
      "/tmp/ipykernel_32940/3504350193.py:45: UserWarning: This figure was using constrained_layout==True, but that is incompatible with subplots_adjust and or tight_layout: setting constrained_layout==False. \n",
      "  plt.tight_layout()\n",
      "/tmp/ipykernel_32940/3504350193.py:48: MatplotlibDeprecationWarning: The 'norm' parameter to Colorbar has no effect because it is overridden by the mappable; it is deprecated since 3.3 and will be removed two minor releases later.\n",
      "  plt.colorbar(im_heatmap,cax=cb_ax,orientation='horizontal',pad=0.02,ticks=bounds,extend='both',norm=norm)\n"
     ]
    }
   ],
   "source": [
    "depth_path_all = '/home/youngkim21/dacon/sem-data/simulation_data/Depth/*/*/*.png'\n",
    "simulation_depth_paths_all = sorted(glob(depth_path_all))\n",
    "save_dir = os.path.abspath('/home/youngkim21/dacon/dacon-sem/notebooks')\n",
    "\n",
    "draw_line_by_row(np.unique(simulation_depth_paths_all), save_dir)\n"
   ]
  },
  {
   "cell_type": "code",
   "execution_count": 37,
   "metadata": {},
   "outputs": [
    {
     "data": {
      "text/plain": [
       "'/simulation_data/Depth/*/*/*.png'"
      ]
     },
     "execution_count": 37,
     "metadata": {},
     "output_type": "execute_result"
    }
   ],
   "source": [
    "data_path = '/home/youngkim21/dacon/sem-data'\n",
    "depth_path_all =os.path.join(data_path, '/simulation_data/Depth/*/*/*.png')\n",
    "\n",
    "simulation_depth_paths_all = sorted(glob(depth_path_all))\n",
    "\n",
    "depth_path_all"
   ]
  },
  {
   "cell_type": "code",
   "execution_count": 31,
   "metadata": {},
   "outputs": [
    {
     "data": {
      "text/plain": [
       "array([140, 140, 140, 140, 140, 140, 140, 140, 140, 140, 140, 140, 140,\n",
       "       140, 140, 140, 140, 140, 140, 140, 140, 140, 140, 140, 140, 140,\n",
       "       140, 140, 140, 140, 140, 140, 140, 140, 140, 140, 140, 140, 140,\n",
       "       140, 140, 140, 140, 140, 140, 140, 140, 140], dtype=uint8)"
      ]
     },
     "execution_count": 31,
     "metadata": {},
     "output_type": "execute_result"
    }
   ],
   "source": [
    "img = cv2.imread(simulation_depth_paths_all[0], cv2.IMREAD_GRAYSCALE)\n",
    "img[0].copy()"
   ]
  },
  {
   "cell_type": "code",
   "execution_count": 4,
   "metadata": {},
   "outputs": [
    {
     "name": "stderr",
     "output_type": "stream",
     "text": [
      "/tmp/ipykernel_28331/3504350193.py:41: MatplotlibDeprecationWarning: Passing parameters norm and vmin/vmax simultaneously is deprecated since 3.3 and will become an error two minor releases later. Please pass vmin/vmax directly to the norm when creating it.\n",
      "  im_heatmap = ax.pcolor(heat_map[:,:,i],cmap=newcmp,#edgecolors='black',\n",
      "/tmp/ipykernel_28331/3504350193.py:45: UserWarning: This figure was using constrained_layout==True, but that is incompatible with subplots_adjust and or tight_layout: setting constrained_layout==False. \n",
      "  plt.tight_layout()\n",
      "/tmp/ipykernel_28331/3504350193.py:48: MatplotlibDeprecationWarning: The 'norm' parameter to Colorbar has no effect because it is overridden by the mappable; it is deprecated since 3.3 and will be removed two minor releases later.\n",
      "  plt.colorbar(im_heatmap,cax=cb_ax,orientation='horizontal',pad=0.02,ticks=bounds,extend='both',norm=norm)\n"
     ]
    }
   ],
   "source": [
    "depth_path_all = os.path.abspath('/home/youngkim21/dacon/dacon-sem/output/submissions/*')\n",
    "simulation_depth_paths_all = sorted(glob(depth_path_all))\n",
    "save_dir = os.path.abspath('/home/youngkim21/dacon/dacon-sem/notebooks')\n",
    "\n",
    "draw_line_by_row(np.unique(simulation_depth_paths_all), save_dir, 'heatmap_pred_add.png')"
   ]
  },
  {
   "cell_type": "code",
   "execution_count": 36,
   "metadata": {},
   "outputs": [
    {
     "data": {
      "text/plain": [
       "'/home/youngkim21/dacon/dacon-sem/output/heatmap/heatmap.png'"
      ]
     },
     "execution_count": 36,
     "metadata": {},
     "output_type": "execute_result"
    }
   ],
   "source": [
    "save_dir_name='/home/youngkim21/dacon/dacon-sem/output/heatmap'\n",
    "file_name='heatmap.png'\n",
    "os.path.join(save_dir_name, file_name)"
   ]
  },
  {
   "cell_type": "code",
   "execution_count": 33,
   "metadata": {},
   "outputs": [
    {
     "data": {
      "text/plain": [
       "(1440, 2448, 3)"
      ]
     },
     "execution_count": 33,
     "metadata": {},
     "output_type": "execute_result"
    }
   ],
   "source": [
    "img = cv2.imread('/home/youngkim21/dacon/dacon-sem/notebooks/heatmap_pred.png')\n",
    "img.shape"
   ]
  }
 ],
 "metadata": {
  "kernelspec": {
   "display_name": "Python 3.8.8 ('torch18')",
   "language": "python",
   "name": "python3"
  },
  "language_info": {
   "codemirror_mode": {
    "name": "ipython",
    "version": 3
   },
   "file_extension": ".py",
   "mimetype": "text/x-python",
   "name": "python",
   "nbconvert_exporter": "python",
   "pygments_lexer": "ipython3",
   "version": "3.8.8"
  },
  "orig_nbformat": 4,
  "vscode": {
   "interpreter": {
    "hash": "4929e1b14f0ed32f4601b83e328fc410fa396d217a4f3e5ddf4253c0166a9517"
   }
  }
 },
 "nbformat": 4,
 "nbformat_minor": 2
}
