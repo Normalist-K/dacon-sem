{
 "cells": [
  {
   "cell_type": "code",
   "execution_count": 1,
   "metadata": {},
   "outputs": [],
   "source": [
    "import os\n",
    "from glob import glob\n",
    "from tqdm import tqdm\n",
    "\n",
    "import cv2\n",
    "import numpy as np\n",
    "import pandas as pd\n",
    "import matplotlib.pyplot as plt\n",
    "import albumentations as A\n",
    "from albumentations.pytorch import ToTensorV2\n",
    "\n",
    "import sys\n",
    "# sys.path.append('/root/dacon-epitope/dacon-sem')\n",
    "sys.path.append('/home/youngkim21/dacon/dacon-sem')\n",
    "from src.datasets.sem_dataset import SEMDataset\n",
    "from src.datasets.sem_datamodule import SEMDataModule"
   ]
  },
  {
   "cell_type": "code",
   "execution_count": 2,
   "metadata": {},
   "outputs": [
    {
     "name": "stdout",
     "output_type": "stream",
     "text": [
      "[43326, 43326, 43326, 43326]\n",
      "[21663, 21663, 21663, 21663]\n",
      "[15166, 15166, 15166, 15166]\n"
     ]
    }
   ],
   "source": [
    "# data_path = os.path.abspath('/shared/Samsung/')\n",
    "data_path = os.path.abspath('/home/youngkim21/dacon/sem-data')\n",
    "simulation_sem_paths = os.path.join(data_path, 'simulation_data', 'SEM', '*', '*', '*.png')\n",
    "simulation_sem_paths = np.array(sorted(glob(simulation_sem_paths)))\n",
    "simulation_depth_paths = os.path.join(data_path, 'simulation_data', 'Depth', '*', '*', '*.png')\n",
    "simulation_depth_paths = np.array(sorted(glob(simulation_depth_paths) + glob(simulation_depth_paths)))\n",
    "simulation_data_len = len(simulation_sem_paths)\n",
    "\n",
    "train_sem_paths = os.path.join(data_path, 'train', 'SEM', '*', '*', '*.png')\n",
    "train_sem_paths = np.array(sorted(glob(train_sem_paths)))\n",
    "train_data_len = len(train_sem_paths)\n",
    "\n",
    "test_sem_paths = os.path.join(data_path, 'test', 'SEM', '*.png')\n",
    "test_sem_paths = np.array(sorted(glob(test_sem_paths)))\n",
    "test_data_len = len(test_sem_paths)\n",
    "\n",
    "case_list = ['Case_1', 'Case_2', 'Case_3', 'Case_4']\n",
    "\n",
    "simulation_sem_by_case = []\n",
    "for case in case_list:\n",
    "    t_path = os.path.join(data_path, 'simulation_data', 'SEM', case, '*', '*.png')\n",
    "    t_path = np.array(sorted(glob(t_path)))\n",
    "    simulation_sem_by_case.append(t_path)\n",
    "\n",
    "simulation_depth_by_case = []\n",
    "for case in case_list:\n",
    "    t_path = os.path.join(data_path, 'simulation_data', 'Depth', case, '*', '*.png')\n",
    "    t_path = np.array(sorted(glob(t_path)))\n",
    "    simulation_depth_by_case.append(t_path)\n",
    "\n",
    "depth_list = ['Depth_110', 'Depth_120', 'Depth_130', 'Depth_140']\n",
    "\n",
    "train_sem_by_depth = []\n",
    "for depth in depth_list:\n",
    "    t_path = os.path.join(data_path, 'train', 'SEM', depth, '*', '*.png')\n",
    "    t_path = np.array(sorted(glob(t_path)))\n",
    "    train_sem_by_depth.append(t_path)\n",
    "\n",
    "# train_average_depth = pd.read_csv('/shared/Samsung/train/average_depth.csv')\n",
    "train_average_depth = pd.read_csv('/home/youngkim21/dacon/sem-data/train/average_depth.csv')\n",
    "\n",
    "print([len(t_path) for t_path in simulation_sem_by_case])\n",
    "print([len(t_path) for t_path in simulation_depth_by_case])\n",
    "print([len(t_path) for t_path in train_sem_by_depth])"
   ]
  },
  {
   "cell_type": "code",
   "execution_count": 29,
   "metadata": {},
   "outputs": [
    {
     "name": "stdout",
     "output_type": "stream",
     "text": [
      "21663 21663\n",
      "21663 21663\n",
      "21663 21663\n",
      "21663 21663\n"
     ]
    }
   ],
   "source": [
    "simulation_sem_itr0 = []\n",
    "simulation_sem_itr1 = []\n",
    "for case in simulation_sem_by_case:\n",
    "    tmp0, tmp1 = [], []\n",
    "    for sem in case:\n",
    "        itr = sem[-5]\n",
    "        if itr == '0':\n",
    "            tmp0.append(sem)\n",
    "        elif itr == '1':\n",
    "            tmp1.append(sem)\n",
    "    simulation_sem_itr0.append(tmp0)\n",
    "    simulation_sem_itr1.append(tmp1)\n",
    "    print(len(tmp0), len(tmp1))\n"
   ]
  },
  {
   "cell_type": "markdown",
   "metadata": {},
   "source": [
    "## SEM"
   ]
  },
  {
   "cell_type": "code",
   "execution_count": 3,
   "metadata": {},
   "outputs": [],
   "source": [
    "def get_avg_std(cases, data_paths):\n",
    "    avg_by_case = []\n",
    "    std_by_case = []\n",
    "    for case, paths in zip(cases, data_paths):\n",
    "        avgs, stds = [], []\n",
    "        for path in paths:\n",
    "            depth = cv2.imread(path)\n",
    "            avg = np.average(depth)\n",
    "            std = np.std(depth)\n",
    "            avgs.append(avg)\n",
    "            stds.append(std)\n",
    "        case_avg = np.average(avgs)\n",
    "        case_std = np.average(stds)\n",
    "        avg_by_case.append(case_avg)\n",
    "        std_by_case.append(case_std)\n",
    "        print(case, \":\", case_avg, case_std)\n",
    "    return avg_by_case, std_by_case"
   ]
  },
  {
   "cell_type": "code",
   "execution_count": 4,
   "metadata": {},
   "outputs": [
    {
     "name": "stdout",
     "output_type": "stream",
     "text": [
      "Average SEM pixel values of test dataset\n",
      " : 115.58954166078786 65.71617850978603\n"
     ]
    }
   ],
   "source": [
    "print(\"Average SEM pixel values of test dataset\")\n",
    "avg_sem_test, std_sem_test = get_avg_std([''], [test_sem_paths])"
   ]
  },
  {
   "cell_type": "code",
   "execution_count": 35,
   "metadata": {},
   "outputs": [
    {
     "name": "stdout",
     "output_type": "stream",
     "text": [
      "Average SEM pixel values of train dataset\n",
      "Depth_110 : 118.22702867586366 63.23097702989158\n",
      "Depth_120 : 116.38813855065669 65.11493673578214\n",
      "Depth_130 : 114.66024697056281 66.63681021623475\n",
      "Depth_140 : 113.03569715823893 67.85634442212138\n"
     ]
    }
   ],
   "source": [
    "print(\"Average SEM pixel values of train dataset\")\n",
    "avg_sem_by_depth, std_sem_by_depth = get_avg_std(depth_list, train_sem_by_depth)"
   ]
  },
  {
   "cell_type": "code",
   "execution_count": 36,
   "metadata": {},
   "outputs": [
    {
     "name": "stdout",
     "output_type": "stream",
     "text": [
      "Average SEM pixel values of simulation dataset\n",
      "Case_1 : 102.34009511465402 55.621073505906395\n",
      "Case_2 : 100.60741177379806 57.1245849694382\n",
      "Case_3 : 99.10810123342453 58.415000122302736\n",
      "Case_4 : 97.80896715720908 59.533876171705614\n"
     ]
    }
   ],
   "source": [
    "print(\"Average SEM pixel values of simulation dataset\")\n",
    "avg_sem_by_case, std_sem_by_case = get_avg_std(case_list, simulation_sem_by_case)"
   ]
  },
  {
   "cell_type": "code",
   "execution_count": 37,
   "metadata": {},
   "outputs": [
    {
     "name": "stdout",
     "output_type": "stream",
     "text": [
      "Average SEM pixel values of simulation itr0 dataset\n",
      "Case_1 : 102.34952178338727 55.626230581255626\n",
      "Case_2 : 100.6010867651107 57.12143721511824\n",
      "Case_3 : 99.11708963354482 58.42005907961548\n",
      "Case_4 : 97.81057041330499 59.53315949478247\n"
     ]
    }
   ],
   "source": [
    "print(\"Average SEM pixel values of simulation itr0 dataset\")\n",
    "_, _ = get_avg_std(case_list, simulation_sem_itr0)"
   ]
  },
  {
   "cell_type": "code",
   "execution_count": 38,
   "metadata": {},
   "outputs": [
    {
     "name": "stdout",
     "output_type": "stream",
     "text": [
      "Average SEM pixel values of simulation itr1 dataset\n",
      "Case_1 : 102.33066844592078 55.61591643055716\n",
      "Case_2 : 100.6137367824854 57.12773272375818\n",
      "Case_3 : 99.09911283330426 58.40994116499001\n",
      "Case_4 : 97.80736390111318 59.5345928486288\n"
     ]
    }
   ],
   "source": [
    "print(\"Average SEM pixel values of simulation itr1 dataset\")\n",
    "_, _ = get_avg_std(case_list, simulation_sem_itr1)"
   ]
  },
  {
   "cell_type": "code",
   "execution_count": 39,
   "metadata": {},
   "outputs": [
    {
     "name": "stdout",
     "output_type": "stream",
     "text": [
      "Average Depth pixel values of simulation dataset\n",
      "Case_1 : 101.7664403489864 47.10571291605642\n",
      "Case_2 : 108.28920790388032 51.39030375234918\n",
      "Case_3 : 114.81366495409051 55.67178387136982\n",
      "Case_4 : 121.34116433272469 59.953447258273386\n"
     ]
    }
   ],
   "source": [
    "print(\"Average Depth pixel values of simulation dataset\")\n",
    "avg_depth_by_case, std_depth_by_case = get_avg_std(case_list, simulation_depth_by_case)"
   ]
  },
  {
   "cell_type": "code",
   "execution_count": 18,
   "metadata": {},
   "outputs": [
    {
     "data": {
      "text/plain": [
       "(array([118.22702868, 116.38813855, 114.66024697, 113.03569716]),\n",
       " array([110., 120., 130., 140.]),\n",
       " array([102.34009511, 100.60741177,  99.10810123,  97.80896716]),\n",
       " array([101.76644035, 108.2892079 , 114.81366495, 121.34116433]))"
      ]
     },
     "execution_count": 18,
     "metadata": {},
     "output_type": "execute_result"
    }
   ],
   "source": [
    "avg_depth_by_depth = [110., 120., 130., 140.]\n",
    "avg_sem_by_depth = np.array(avg_sem_by_depth)\n",
    "avg_depth_by_depth = np.array(avg_depth_by_depth)\n",
    "avg_sem_by_case = np.array(avg_sem_by_case)\n",
    "avg_depth_by_case = np.array(avg_depth_by_case)\n",
    "avg_sem_by_depth, avg_depth_by_depth, avg_sem_by_case, avg_depth_by_case"
   ]
  },
  {
   "cell_type": "code",
   "execution_count": 19,
   "metadata": {},
   "outputs": [
    {
     "data": {
      "text/plain": [
       "[array([1.07479117, 0.96990115, 0.8820019 , 0.80739784]),\n",
       " array([1.00563697, 0.92906222, 0.86320824, 0.80606584])]"
      ]
     },
     "execution_count": 19,
     "metadata": {},
     "output_type": "execute_result"
    }
   ],
   "source": [
    "[avg_sem_by_depth / avg_depth_by_depth,\n",
    "avg_sem_by_case / avg_depth_by_case]"
   ]
  },
  {
   "cell_type": "code",
   "execution_count": 21,
   "metadata": {},
   "outputs": [
    {
     "data": {
      "text/plain": [
       "[array([1.15523665, 1.15685451, 1.15692103, 1.15567826]),\n",
       " array([1.08090643, 1.10814367, 1.1322694 , 1.15377169])]"
      ]
     },
     "execution_count": 21,
     "metadata": {},
     "output_type": "execute_result"
    }
   ],
   "source": [
    "[avg_sem_by_depth / avg_sem_by_case,\n",
    "avg_depth_by_depth / avg_depth_by_case]"
   ]
  },
  {
   "cell_type": "code",
   "execution_count": 40,
   "metadata": {},
   "outputs": [
    {
     "data": {
      "text/plain": [
       "array([1.13681691, 1.13987588, 1.14074827, 1.13979382])"
      ]
     },
     "execution_count": 40,
     "metadata": {},
     "output_type": "execute_result"
    }
   ],
   "source": [
    "np.array(std_sem_by_depth) / np.array(std_sem_by_case)"
   ]
  },
  {
   "cell_type": "markdown",
   "metadata": {},
   "source": [
    "- fact 1. Train SEM data이 Simulation SEM data보다 1.15배 더 밝다\n",
    "- fact 2. 우리가 예측해야하는 train/test의 depth가 simulation의 depth보다 더 밝다. 다만 case별로 밝은 정도의 차이가 있다."
   ]
  },
  {
   "cell_type": "code",
   "execution_count": 45,
   "metadata": {},
   "outputs": [
    {
     "data": {
      "text/plain": [
       "(0.3920240934108683, 0.2261711125189735)"
      ]
     },
     "execution_count": 45,
     "metadata": {},
     "output_type": "execute_result"
    }
   ],
   "source": [
    "# simulation SEM mean & std\n",
    "np.average(avg_sem_by_case) / 255., np.average(std_sem_by_case) / 255."
   ]
  },
  {
   "cell_type": "code",
   "execution_count": 46,
   "metadata": {},
   "outputs": [
    {
     "data": {
      "text/plain": [
       "(0.4532461876032569, 0.2576853611804214)"
      ]
     },
     "execution_count": 46,
     "metadata": {},
     "output_type": "execute_result"
    }
   ],
   "source": [
    "# train SEM maen & std\n",
    "np.average(avg_sem_by_depth) / 255., np.average(std_sem_by_depth) / 255."
   ]
  },
  {
   "cell_type": "code",
   "execution_count": null,
   "metadata": {},
   "outputs": [],
   "source": []
  },
  {
   "cell_type": "code",
   "execution_count": 51,
   "metadata": {},
   "outputs": [
    {
     "name": "stdout",
     "output_type": "stream",
     "text": [
      "Case_1 80 101.4511178530504\n",
      "Case_1 81 101.69497633404718\n",
      "Case_1 82 101.99451359731857\n",
      "Case_1 83 101.90410260713206\n",
      "Case_1 84 101.65717146638126\n",
      "Case_2 80 107.94215072391471\n",
      "Case_2 81 108.21910676415725\n",
      "Case_2 82 108.5386858672062\n",
      "Case_2 83 108.44413858066626\n",
      "Case_2 84 108.16160835034184\n",
      "Case_3 80 114.44260625757336\n",
      "Case_3 81 114.7297829844828\n",
      "Case_3 82 115.08149289075496\n",
      "Case_3 83 114.97915133416363\n",
      "Case_3 84 114.68217986691889\n",
      "Case_4 80 120.9366334879287\n",
      "Case_4 81 121.25754219945183\n",
      "Case_4 82 121.63384282077807\n",
      "Case_4 83 121.51796542514953\n",
      "Case_4 84 121.19560470388623\n"
     ]
    }
   ],
   "source": [
    "case_list = ['Case_1', 'Case_2', 'Case_3', 'Case_4']\n",
    "num_list = ['80', '81', '82', '83', '84']\n",
    "\n",
    "for case in case_list:\n",
    "    for num in num_list:\n",
    "        paths = glob(f'/home/youngkim21/dacon/sem-data/simulation_data/Depth/{case}/{num}/*.png')\n",
    "        avgs, stds = [], []\n",
    "        for path in paths:\n",
    "            depth = cv2.imread(path)\n",
    "            avg = np.average(depth)\n",
    "            std = np.std(depth)\n",
    "            avgs.append(avg)\n",
    "            stds.append(std)\n",
    "        case_avg = np.average(avgs)\n",
    "        case_std = np.average(stds)\n",
    "\n",
    "        print(case, num, case_avg)"
   ]
  },
  {
   "cell_type": "markdown",
   "metadata": {},
   "source": []
  }
 ],
 "metadata": {
  "kernelspec": {
   "display_name": "Python 3.8.8 ('torch18')",
   "language": "python",
   "name": "python3"
  },
  "language_info": {
   "codemirror_mode": {
    "name": "ipython",
    "version": 3
   },
   "file_extension": ".py",
   "mimetype": "text/x-python",
   "name": "python",
   "nbconvert_exporter": "python",
   "pygments_lexer": "ipython3",
   "version": "3.8.8"
  },
  "orig_nbformat": 4,
  "vscode": {
   "interpreter": {
    "hash": "4929e1b14f0ed32f4601b83e328fc410fa396d217a4f3e5ddf4253c0166a9517"
   }
  }
 },
 "nbformat": 4,
 "nbformat_minor": 2
}
